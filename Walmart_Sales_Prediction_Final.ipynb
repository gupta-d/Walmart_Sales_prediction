{
 "cells": [
  {
   "cell_type": "markdown",
   "metadata": {},
   "source": [
    "# <span style=\"color:red\"><u>Background</u></span>\n",
    "This dataset is taken from Kaggle competition (https://www.kaggle.com/c/walmart-recruiting-store-sales-forecasting/).\n",
    "Walmart has challanged the participants to predict the weekly sales of their 45 stores during Nov'12 - July'18 period. They provided historical data for a period of Feb'10 to Nov'12 to establish a model and upload the results to get the score against actual actual sales data. The challange has a bit of added complexity due to lots of missing data for markdowns during special holiday periods.\n",
    "\n",
    "`'Mean Absolute Error'` has been used as the performance metric to evaluate the performance"
   ]
  },
  {
   "cell_type": "markdown",
   "metadata": {},
   "source": [
    "## <span style=\"color:blue\"><u>1. Introduction to the dataset</u></span>\n",
    "Dataset covers 45 Walmart stores located in different regions. Each store contains a number of departments, and we are tasked with predicting the department-wide sales for each store.\n",
    "\n",
    "Walmart runs several promotional markdown events throughout the year. These markdowns precede prominent holidays, the four largest of which are the Super Bowl, Labor Day, Thanksgiving, and Christmas. The weeks including these holidays are weighted five times higher in the evaluation than non-holiday weeks. Part of the challenge presented by this competition is modeling the effects of markdowns on these holiday weeks in the absence of complete/ideal historical data.\n",
    "\n",
    "<b>stores.csv</b>\n",
    "\n",
    "This file contains anonymized information about the 45 stores, indicating the type and size of store.\n",
    "\n",
    "<b>train.csv</b>\n",
    "\n",
    "This is the historical training data, which covers to 2010-02-05 to 2012-11-01 with following fields:\n",
    "\n",
    "Store - the store number\n",
    "Dept - the department number\n",
    "Date - the week\n",
    "Weekly_Sales -  sales for the given department in the given store\n",
    "IsHoliday - whether the week is a special holiday week\n",
    "\n",
    "<b>test.csv</b>\n",
    "\n",
    "This file is identical to train.csv, except that weekly sales are withheld. We need to predict the sales for each triplet of store, department, and date in this file.\n",
    "\n",
    "<b>features.csv</b>\n",
    "\n",
    "This file contains additional data related to the store, department, and regional activity for the given dates. It contains the following fields:\n",
    "\n",
    "`Store` - the store number\n",
    "\n",
    "`Date` - the week\n",
    "\n",
    "`Temperature` - average temperature in the region\n",
    "\n",
    "`Fuel_Price` - cost of fuel in the region\n",
    "\n",
    "`MarkDown1-5` - anonymized data related to promotional markdowns that Walmart is running. MarkDown data is only available after Nov 2011, and is not available for all stores all the time. Any missing value is marked with an NA.\n",
    "\n",
    "`CPI` - the consumer price index\n",
    "\n",
    "`Unemployment` - the unemployment rate\n",
    "\n",
    "`IsHoliday` - whether the week is a special holiday week\n",
    "\n",
    "\n",
    "\n",
    "<b><u>The four holidays fall within the following weeks in the dataset (not all holidays are in the data):<u></b>\n",
    "\n",
    "<b>Super Bowl:</b> 12-Feb-10, 11-Feb-11, 10-Feb-12, 8-Feb-13\n",
    "\n",
    "<b>Labor Day:</b> 10-Sep-10, 9-Sep-11, 7-Sep-12, 6-Sep-13\n",
    "\n",
    "<b>Thanksgiving:</b> 26-Nov-10, 25-Nov-11, 23-Nov-12, 29-Nov-13\n",
    "\n",
    "<b>Christmas:</b> 31-Dec-10, 30-Dec-11, 28-Dec-12, 27-Dec-13"
   ]
  },
  {
   "cell_type": "markdown",
   "metadata": {},
   "source": [
    "## <span style=\"color:blue\"><u>2. Start by importing dependencies</u></span>\n",
    "(a) We will use `pandas/numpy` to extract and transform our data.\n",
    "\n",
    "(b) For modelling we are going to use Random Forest Regressor from `scikit-learn`.\n",
    "\n",
    "(c) `matplotlib/seaborn` for basic visualization within this notebook. The detailed analysis of stores sale data is done separately using `tableau public`."
   ]
  },
  {
   "cell_type": "code",
   "execution_count": 1,
   "metadata": {},
   "outputs": [],
   "source": [
    "#Import Dependencies\n",
    "import pandas as pd \n",
    "import numpy as np\n",
    "import matplotlib\n",
    "import matplotlib.pyplot as plt\n",
    "import seaborn as sns\n",
    "from sklearn.ensemble import RandomForestRegressor\n",
    "from sklearn.model_selection import StratifiedKFold\n",
    "from sklearn.model_selection import train_test_split\n",
    "from sklearn.preprocessing import MinMaxScaler\n",
    "from sklearn.metrics import mean_absolute_error, mean_squared_error\n",
    "\n",
    "\n",
    "# To show all outputs in jupyter notebook cell\n",
    "from IPython.core.interactiveshell import InteractiveShell\n",
    "InteractiveShell.ast_node_interactivity = \"all\"\n"
   ]
  },
  {
   "cell_type": "markdown",
   "metadata": {},
   "source": [
    "## <span style=\"color:blue\"><u>3. load data into pandas dataframes,merge additional stores/features information, and explore the dataset</u></span>"
   ]
  },
  {
   "cell_type": "code",
   "execution_count": 2,
   "metadata": {},
   "outputs": [],
   "source": [
    "df_stores = pd.read_csv(\"dataset/original/stores.csv\") # stores' static information\n",
    "df_sales = pd.read_csv(\"dataset/original/train.csv\")   # training data with weekly sales \n",
    "df_features = pd.read_csv(\"dataset/original/features.csv\") #special attributes like holidays, markdowns, CPI etc (weekly data covering duration of both test and training dataset)\n",
    "df_test = pd.read_csv(\"dataset/original/test.csv\") # test dataset in same format as sales data (but without sales data)"
   ]
  },
  {
   "cell_type": "markdown",
   "metadata": {},
   "source": [
    "#### `df_sales` is dataframe reading sales training data. We will merge stores information and features in the same dataframe.\n",
    "#### `df_test` is dataframe reading test data. We will merge stores information and features in the same dataframe.\n",
    "#### We will henceforth apply same opeartions simultaneously on both train and test dataframes to keep consistency"
   ]
  },
  {
   "cell_type": "code",
   "execution_count": 3,
   "metadata": {},
   "outputs": [
    {
     "data": {
      "text/plain": [
       "(421570, 16)"
      ]
     },
     "execution_count": 3,
     "metadata": {},
     "output_type": "execute_result"
    },
    {
     "data": {
      "text/html": [
       "<div>\n",
       "<style scoped>\n",
       "    .dataframe tbody tr th:only-of-type {\n",
       "        vertical-align: middle;\n",
       "    }\n",
       "\n",
       "    .dataframe tbody tr th {\n",
       "        vertical-align: top;\n",
       "    }\n",
       "\n",
       "    .dataframe thead th {\n",
       "        text-align: right;\n",
       "    }\n",
       "</style>\n",
       "<table border=\"1\" class=\"dataframe\">\n",
       "  <thead>\n",
       "    <tr style=\"text-align: right;\">\n",
       "      <th></th>\n",
       "      <th>Store</th>\n",
       "      <th>Dept</th>\n",
       "      <th>Date</th>\n",
       "      <th>Weekly_Sales</th>\n",
       "      <th>IsHoliday</th>\n",
       "      <th>Type</th>\n",
       "      <th>Size</th>\n",
       "      <th>Temperature</th>\n",
       "      <th>Fuel_Price</th>\n",
       "      <th>MarkDown1</th>\n",
       "      <th>MarkDown2</th>\n",
       "      <th>MarkDown3</th>\n",
       "      <th>MarkDown4</th>\n",
       "      <th>MarkDown5</th>\n",
       "      <th>CPI</th>\n",
       "      <th>Unemployment</th>\n",
       "    </tr>\n",
       "  </thead>\n",
       "  <tbody>\n",
       "    <tr>\n",
       "      <th>0</th>\n",
       "      <td>1</td>\n",
       "      <td>1</td>\n",
       "      <td>2010-02-05</td>\n",
       "      <td>24924.50</td>\n",
       "      <td>False</td>\n",
       "      <td>A</td>\n",
       "      <td>151315</td>\n",
       "      <td>42.31</td>\n",
       "      <td>2.572</td>\n",
       "      <td>NaN</td>\n",
       "      <td>NaN</td>\n",
       "      <td>NaN</td>\n",
       "      <td>NaN</td>\n",
       "      <td>NaN</td>\n",
       "      <td>211.096358</td>\n",
       "      <td>8.106</td>\n",
       "    </tr>\n",
       "    <tr>\n",
       "      <th>1</th>\n",
       "      <td>1</td>\n",
       "      <td>1</td>\n",
       "      <td>2010-02-12</td>\n",
       "      <td>46039.49</td>\n",
       "      <td>True</td>\n",
       "      <td>A</td>\n",
       "      <td>151315</td>\n",
       "      <td>38.51</td>\n",
       "      <td>2.548</td>\n",
       "      <td>NaN</td>\n",
       "      <td>NaN</td>\n",
       "      <td>NaN</td>\n",
       "      <td>NaN</td>\n",
       "      <td>NaN</td>\n",
       "      <td>211.242170</td>\n",
       "      <td>8.106</td>\n",
       "    </tr>\n",
       "    <tr>\n",
       "      <th>2</th>\n",
       "      <td>1</td>\n",
       "      <td>1</td>\n",
       "      <td>2010-02-19</td>\n",
       "      <td>41595.55</td>\n",
       "      <td>False</td>\n",
       "      <td>A</td>\n",
       "      <td>151315</td>\n",
       "      <td>39.93</td>\n",
       "      <td>2.514</td>\n",
       "      <td>NaN</td>\n",
       "      <td>NaN</td>\n",
       "      <td>NaN</td>\n",
       "      <td>NaN</td>\n",
       "      <td>NaN</td>\n",
       "      <td>211.289143</td>\n",
       "      <td>8.106</td>\n",
       "    </tr>\n",
       "    <tr>\n",
       "      <th>3</th>\n",
       "      <td>1</td>\n",
       "      <td>1</td>\n",
       "      <td>2010-02-26</td>\n",
       "      <td>19403.54</td>\n",
       "      <td>False</td>\n",
       "      <td>A</td>\n",
       "      <td>151315</td>\n",
       "      <td>46.63</td>\n",
       "      <td>2.561</td>\n",
       "      <td>NaN</td>\n",
       "      <td>NaN</td>\n",
       "      <td>NaN</td>\n",
       "      <td>NaN</td>\n",
       "      <td>NaN</td>\n",
       "      <td>211.319643</td>\n",
       "      <td>8.106</td>\n",
       "    </tr>\n",
       "    <tr>\n",
       "      <th>4</th>\n",
       "      <td>1</td>\n",
       "      <td>1</td>\n",
       "      <td>2010-03-05</td>\n",
       "      <td>21827.90</td>\n",
       "      <td>False</td>\n",
       "      <td>A</td>\n",
       "      <td>151315</td>\n",
       "      <td>46.50</td>\n",
       "      <td>2.625</td>\n",
       "      <td>NaN</td>\n",
       "      <td>NaN</td>\n",
       "      <td>NaN</td>\n",
       "      <td>NaN</td>\n",
       "      <td>NaN</td>\n",
       "      <td>211.350143</td>\n",
       "      <td>8.106</td>\n",
       "    </tr>\n",
       "  </tbody>\n",
       "</table>\n",
       "</div>"
      ],
      "text/plain": [
       "   Store  Dept        Date  Weekly_Sales  IsHoliday Type    Size  Temperature  \\\n",
       "0      1     1  2010-02-05      24924.50      False    A  151315        42.31   \n",
       "1      1     1  2010-02-12      46039.49       True    A  151315        38.51   \n",
       "2      1     1  2010-02-19      41595.55      False    A  151315        39.93   \n",
       "3      1     1  2010-02-26      19403.54      False    A  151315        46.63   \n",
       "4      1     1  2010-03-05      21827.90      False    A  151315        46.50   \n",
       "\n",
       "   Fuel_Price  MarkDown1  MarkDown2  MarkDown3  MarkDown4  MarkDown5  \\\n",
       "0       2.572        NaN        NaN        NaN        NaN        NaN   \n",
       "1       2.548        NaN        NaN        NaN        NaN        NaN   \n",
       "2       2.514        NaN        NaN        NaN        NaN        NaN   \n",
       "3       2.561        NaN        NaN        NaN        NaN        NaN   \n",
       "4       2.625        NaN        NaN        NaN        NaN        NaN   \n",
       "\n",
       "          CPI  Unemployment  \n",
       "0  211.096358         8.106  \n",
       "1  211.242170         8.106  \n",
       "2  211.289143         8.106  \n",
       "3  211.319643         8.106  \n",
       "4  211.350143         8.106  "
      ]
     },
     "execution_count": 3,
     "metadata": {},
     "output_type": "execute_result"
    },
    {
     "data": {
      "text/plain": [
       "(115064, 15)"
      ]
     },
     "execution_count": 3,
     "metadata": {},
     "output_type": "execute_result"
    },
    {
     "data": {
      "text/html": [
       "<div>\n",
       "<style scoped>\n",
       "    .dataframe tbody tr th:only-of-type {\n",
       "        vertical-align: middle;\n",
       "    }\n",
       "\n",
       "    .dataframe tbody tr th {\n",
       "        vertical-align: top;\n",
       "    }\n",
       "\n",
       "    .dataframe thead th {\n",
       "        text-align: right;\n",
       "    }\n",
       "</style>\n",
       "<table border=\"1\" class=\"dataframe\">\n",
       "  <thead>\n",
       "    <tr style=\"text-align: right;\">\n",
       "      <th></th>\n",
       "      <th>Store</th>\n",
       "      <th>Dept</th>\n",
       "      <th>Date</th>\n",
       "      <th>IsHoliday</th>\n",
       "      <th>Type</th>\n",
       "      <th>Size</th>\n",
       "      <th>Temperature</th>\n",
       "      <th>Fuel_Price</th>\n",
       "      <th>MarkDown1</th>\n",
       "      <th>MarkDown2</th>\n",
       "      <th>MarkDown3</th>\n",
       "      <th>MarkDown4</th>\n",
       "      <th>MarkDown5</th>\n",
       "      <th>CPI</th>\n",
       "      <th>Unemployment</th>\n",
       "    </tr>\n",
       "  </thead>\n",
       "  <tbody>\n",
       "    <tr>\n",
       "      <th>0</th>\n",
       "      <td>1</td>\n",
       "      <td>1</td>\n",
       "      <td>2012-11-02</td>\n",
       "      <td>False</td>\n",
       "      <td>A</td>\n",
       "      <td>151315</td>\n",
       "      <td>55.32</td>\n",
       "      <td>3.386</td>\n",
       "      <td>6766.44</td>\n",
       "      <td>5147.70</td>\n",
       "      <td>50.82</td>\n",
       "      <td>3639.90</td>\n",
       "      <td>2737.42</td>\n",
       "      <td>223.462779</td>\n",
       "      <td>6.573</td>\n",
       "    </tr>\n",
       "    <tr>\n",
       "      <th>1</th>\n",
       "      <td>1</td>\n",
       "      <td>1</td>\n",
       "      <td>2012-11-09</td>\n",
       "      <td>False</td>\n",
       "      <td>A</td>\n",
       "      <td>151315</td>\n",
       "      <td>61.24</td>\n",
       "      <td>3.314</td>\n",
       "      <td>11421.32</td>\n",
       "      <td>3370.89</td>\n",
       "      <td>40.28</td>\n",
       "      <td>4646.79</td>\n",
       "      <td>6154.16</td>\n",
       "      <td>223.481307</td>\n",
       "      <td>6.573</td>\n",
       "    </tr>\n",
       "    <tr>\n",
       "      <th>2</th>\n",
       "      <td>1</td>\n",
       "      <td>1</td>\n",
       "      <td>2012-11-16</td>\n",
       "      <td>False</td>\n",
       "      <td>A</td>\n",
       "      <td>151315</td>\n",
       "      <td>52.92</td>\n",
       "      <td>3.252</td>\n",
       "      <td>9696.28</td>\n",
       "      <td>292.10</td>\n",
       "      <td>103.78</td>\n",
       "      <td>1133.15</td>\n",
       "      <td>6612.69</td>\n",
       "      <td>223.512911</td>\n",
       "      <td>6.573</td>\n",
       "    </tr>\n",
       "    <tr>\n",
       "      <th>3</th>\n",
       "      <td>1</td>\n",
       "      <td>1</td>\n",
       "      <td>2012-11-23</td>\n",
       "      <td>True</td>\n",
       "      <td>A</td>\n",
       "      <td>151315</td>\n",
       "      <td>56.23</td>\n",
       "      <td>3.211</td>\n",
       "      <td>883.59</td>\n",
       "      <td>4.17</td>\n",
       "      <td>74910.32</td>\n",
       "      <td>209.91</td>\n",
       "      <td>303.32</td>\n",
       "      <td>223.561947</td>\n",
       "      <td>6.573</td>\n",
       "    </tr>\n",
       "    <tr>\n",
       "      <th>4</th>\n",
       "      <td>1</td>\n",
       "      <td>1</td>\n",
       "      <td>2012-11-30</td>\n",
       "      <td>False</td>\n",
       "      <td>A</td>\n",
       "      <td>151315</td>\n",
       "      <td>52.34</td>\n",
       "      <td>3.207</td>\n",
       "      <td>2460.03</td>\n",
       "      <td>NaN</td>\n",
       "      <td>3838.35</td>\n",
       "      <td>150.57</td>\n",
       "      <td>6966.34</td>\n",
       "      <td>223.610984</td>\n",
       "      <td>6.573</td>\n",
       "    </tr>\n",
       "  </tbody>\n",
       "</table>\n",
       "</div>"
      ],
      "text/plain": [
       "   Store  Dept        Date  IsHoliday Type    Size  Temperature  Fuel_Price  \\\n",
       "0      1     1  2012-11-02      False    A  151315        55.32       3.386   \n",
       "1      1     1  2012-11-09      False    A  151315        61.24       3.314   \n",
       "2      1     1  2012-11-16      False    A  151315        52.92       3.252   \n",
       "3      1     1  2012-11-23       True    A  151315        56.23       3.211   \n",
       "4      1     1  2012-11-30      False    A  151315        52.34       3.207   \n",
       "\n",
       "   MarkDown1  MarkDown2  MarkDown3  MarkDown4  MarkDown5         CPI  \\\n",
       "0    6766.44    5147.70      50.82    3639.90    2737.42  223.462779   \n",
       "1   11421.32    3370.89      40.28    4646.79    6154.16  223.481307   \n",
       "2    9696.28     292.10     103.78    1133.15    6612.69  223.512911   \n",
       "3     883.59       4.17   74910.32     209.91     303.32  223.561947   \n",
       "4    2460.03        NaN    3838.35     150.57    6966.34  223.610984   \n",
       "\n",
       "   Unemployment  \n",
       "0         6.573  \n",
       "1         6.573  \n",
       "2         6.573  \n",
       "3         6.573  \n",
       "4         6.573  "
      ]
     },
     "execution_count": 3,
     "metadata": {},
     "output_type": "execute_result"
    }
   ],
   "source": [
    "# merge df_sales with df_stores & then with df_features\n",
    "df_train= df_sales.merge(df_stores, how = 'left', on ='Store')\n",
    "df_train = df_train.merge(df_features, how = 'left', on =['Store', 'Date'])\n",
    "\n",
    "# Lets remove 'IsHoliday_y', which is a redundant column after merger\n",
    "df_train=df_train.drop('IsHoliday_y', axis =1)\n",
    "df_train.rename(columns={'IsHoliday_x': 'IsHoliday'}, inplace=True)\n",
    "\n",
    "# check the dataframe\n",
    "df_train.shape\n",
    "df_train.head()\n",
    "\n",
    "# similarly merge df_test with df_stores & then with df_features\n",
    "df_test= df_test.merge(df_stores, how = 'left', on ='Store')\n",
    "df_test = df_test.merge(df_features, how = 'left', on =['Store', 'Date'])\n",
    "df_test=df_test.drop('IsHoliday_y', axis =1)\n",
    "df_test.rename(columns={'IsHoliday_x': 'IsHoliday'}, inplace=True)\n",
    "\n",
    "# check the dataframe\n",
    "df_test.shape\n",
    "df_test.head()"
   ]
  },
  {
   "cell_type": "markdown",
   "metadata": {},
   "source": [
    "#### List of columns in our training file"
   ]
  },
  {
   "cell_type": "code",
   "execution_count": 4,
   "metadata": {},
   "outputs": [
    {
     "data": {
      "text/plain": [
       "Index(['Store', 'Dept', 'Date', 'Weekly_Sales', 'IsHoliday', 'Type', 'Size',\n",
       "       'Temperature', 'Fuel_Price', 'MarkDown1', 'MarkDown2', 'MarkDown3',\n",
       "       'MarkDown4', 'MarkDown5', 'CPI', 'Unemployment'],\n",
       "      dtype='object')"
      ]
     },
     "execution_count": 4,
     "metadata": {},
     "output_type": "execute_result"
    }
   ],
   "source": [
    "df_train.columns"
   ]
  },
  {
   "cell_type": "markdown",
   "metadata": {},
   "source": [
    "#### Shift position of 'target variable 'Weekly_Sales' as first column in training data (just to compare test and train data columns better)"
   ]
  },
  {
   "cell_type": "code",
   "execution_count": 5,
   "metadata": {},
   "outputs": [
    {
     "data": {
      "text/plain": [
       "Index(['Weekly_Sales', 'Store', 'Dept', 'Date', 'IsHoliday', 'Type', 'Size',\n",
       "       'Temperature', 'Fuel_Price', 'MarkDown1', 'MarkDown2', 'MarkDown3',\n",
       "       'MarkDown4', 'MarkDown5', 'CPI', 'Unemployment'],\n",
       "      dtype='object')"
      ]
     },
     "execution_count": 5,
     "metadata": {},
     "output_type": "execute_result"
    }
   ],
   "source": [
    "df_train = df_train[['Weekly_Sales','Store', 'Dept', 'Date', 'IsHoliday', 'Type', 'Size',\n",
    "       'Temperature', 'Fuel_Price', 'MarkDown1', 'MarkDown2', 'MarkDown3',\n",
    "       'MarkDown4', 'MarkDown5', 'CPI', 'Unemployment']]\n",
    "df_train.columns"
   ]
  },
  {
   "cell_type": "markdown",
   "metadata": {},
   "source": [
    "#### Check if except for Weekly_Sales, there is no additional/missing features in test dataset."
   ]
  },
  {
   "cell_type": "code",
   "execution_count": 6,
   "metadata": {},
   "outputs": [
    {
     "data": {
      "text/plain": [
       "array([ True,  True,  True,  True,  True,  True,  True,  True,  True,\n",
       "        True,  True,  True,  True,  True,  True])"
      ]
     },
     "execution_count": 6,
     "metadata": {},
     "output_type": "execute_result"
    }
   ],
   "source": [
    "df_train.columns[1:] == df_test.columns"
   ]
  },
  {
   "cell_type": "markdown",
   "metadata": {},
   "source": [
    "#### Check for nulls and data types"
   ]
  },
  {
   "cell_type": "code",
   "execution_count": 7,
   "metadata": {},
   "outputs": [
    {
     "name": "stdout",
     "output_type": "stream",
     "text": [
      "<class 'pandas.core.frame.DataFrame'>\n",
      "Int64Index: 421570 entries, 0 to 421569\n",
      "Data columns (total 16 columns):\n",
      "Weekly_Sales    421570 non-null float64\n",
      "Store           421570 non-null int64\n",
      "Dept            421570 non-null int64\n",
      "Date            421570 non-null object\n",
      "IsHoliday       421570 non-null bool\n",
      "Type            421570 non-null object\n",
      "Size            421570 non-null int64\n",
      "Temperature     421570 non-null float64\n",
      "Fuel_Price      421570 non-null float64\n",
      "MarkDown1       150681 non-null float64\n",
      "MarkDown2       111248 non-null float64\n",
      "MarkDown3       137091 non-null float64\n",
      "MarkDown4       134967 non-null float64\n",
      "MarkDown5       151432 non-null float64\n",
      "CPI             421570 non-null float64\n",
      "Unemployment    421570 non-null float64\n",
      "dtypes: bool(1), float64(10), int64(3), object(2)\n",
      "memory usage: 51.9+ MB\n",
      "<class 'pandas.core.frame.DataFrame'>\n",
      "Int64Index: 115064 entries, 0 to 115063\n",
      "Data columns (total 15 columns):\n",
      "Store           115064 non-null int64\n",
      "Dept            115064 non-null int64\n",
      "Date            115064 non-null object\n",
      "IsHoliday       115064 non-null bool\n",
      "Type            115064 non-null object\n",
      "Size            115064 non-null int64\n",
      "Temperature     115064 non-null float64\n",
      "Fuel_Price      115064 non-null float64\n",
      "MarkDown1       114915 non-null float64\n",
      "MarkDown2       86437 non-null float64\n",
      "MarkDown3       105235 non-null float64\n",
      "MarkDown4       102176 non-null float64\n",
      "MarkDown5       115064 non-null float64\n",
      "CPI             76902 non-null float64\n",
      "Unemployment    76902 non-null float64\n",
      "dtypes: bool(1), float64(9), int64(3), object(2)\n",
      "memory usage: 13.3+ MB\n"
     ]
    }
   ],
   "source": [
    "df_train.info()\n",
    "df_test.info()"
   ]
  },
  {
   "cell_type": "markdown",
   "metadata": {},
   "source": [
    "#### Check for features correlation in train data"
   ]
  },
  {
   "cell_type": "code",
   "execution_count": 8,
   "metadata": {},
   "outputs": [
    {
     "data": {
      "text/plain": [
       "<matplotlib.axes._subplots.AxesSubplot at 0x261d48b82e8>"
      ]
     },
     "execution_count": 8,
     "metadata": {},
     "output_type": "execute_result"
    },
    {
     "data": {
      "image/png": "[encoded data removed]",
      "text/plain": [
       "<Figure size 720x576 with 2 Axes>"
      ]
     },
     "metadata": {},
     "output_type": "display_data"
    }
   ],
   "source": [
    "sns.set(style=\"white\")\n",
    "fig1, ax1 = plt.subplots(figsize=(10, 8))\n",
    "cmap = sns.diverging_palette(220, 10, as_cmap=True)\n",
    "sns.heatmap(df_train.corr(), cmap=cmap)\n"
   ]
  },
  {
   "cell_type": "markdown",
   "metadata": {},
   "source": [
    "#### Unsurprisingly, size has a clear positive correlation with weekly sales, and  negative correlation with CPI / Unemployment "
   ]
  },
  {
   "cell_type": "markdown",
   "metadata": {},
   "source": [
    "#### Lets check for features correlation in test data as well"
   ]
  },
  {
   "cell_type": "code",
   "execution_count": 9,
   "metadata": {},
   "outputs": [
    {
     "data": {
      "text/plain": [
       "<matplotlib.axes._subplots.AxesSubplot at 0x261d461e2b0>"
      ]
     },
     "execution_count": 9,
     "metadata": {},
     "output_type": "execute_result"
    },
    {
     "data": {
      "image/png": "[encoded data removed]",
      "text/plain": [
       "<Figure size 720x576 with 2 Axes>"
      ]
     },
     "metadata": {},
     "output_type": "display_data"
    }
   ],
   "source": [
    "sns.set(style=\"white\")\n",
    "fig2, ax2 = plt.subplots(figsize=(10, 8))\n",
    "cmap = sns.diverging_palette(220, 10, as_cmap=True)\n",
    "sns.heatmap(df_test.corr(), cmap=cmap)"
   ]
  },
  {
   "cell_type": "markdown",
   "metadata": {},
   "source": [
    "Interestingly, Test data show clear negative correlation between Fuel Price and CPI. "
   ]
  },
  {
   "cell_type": "markdown",
   "metadata": {},
   "source": [
    "## <span style=\"color:blue\"><u>4. Handling Nulls and creating new features relevant for this time series data</u></span>"
   ]
  },
  {
   "cell_type": "markdown",
   "metadata": {},
   "source": [
    "### 4.1. Feature Engineering..create new feature to indicate presence of MarkDown Data\n",
    "There are multiple nulls in markdown columns, specially in training data. Considering the importanec of the same for holiday period sales prediction, let us first create features just to indicate if markdowns are present or absent.."
   ]
  },
  {
   "cell_type": "code",
   "execution_count": 10,
   "metadata": {},
   "outputs": [],
   "source": [
    "# New features to indicate that MarkDown data is available\n",
    "df_train = df_train.assign(Is_M1 = df_train.MarkDown1.notnull())\n",
    "df_train = df_train.assign(Is_M2 = df_train.MarkDown2.notnull())\n",
    "df_train = df_train.assign(Is_M3 = df_train.MarkDown3.notnull())\n",
    "df_train = df_train.assign(Is_M4 = df_train.MarkDown4.notnull())\n",
    "df_train = df_train.assign(Is_M5 = df_train.MarkDown5.notnull())\n",
    "\n",
    "df_test = df_test.assign(Is_M1 = df_test.MarkDown1.notnull())\n",
    "df_test = df_test.assign(Is_M2 = df_test.MarkDown2.notnull())\n",
    "df_test = df_test.assign(Is_M3 = df_test.MarkDown3.notnull())\n",
    "df_test = df_test.assign(Is_M4 = df_test.MarkDown4.notnull())\n",
    "df_test = df_test.assign(Is_M5 = df_test.MarkDown5.notnull())"
   ]
  },
  {
   "cell_type": "code",
   "execution_count": 11,
   "metadata": {},
   "outputs": [
    {
     "data": {
      "text/html": [
       "<div>\n",
       "<style scoped>\n",
       "    .dataframe tbody tr th:only-of-type {\n",
       "        vertical-align: middle;\n",
       "    }\n",
       "\n",
       "    .dataframe tbody tr th {\n",
       "        vertical-align: top;\n",
       "    }\n",
       "\n",
       "    .dataframe thead th {\n",
       "        text-align: right;\n",
       "    }\n",
       "</style>\n",
       "<table border=\"1\" class=\"dataframe\">\n",
       "  <thead>\n",
       "    <tr style=\"text-align: right;\">\n",
       "      <th></th>\n",
       "      <th>Weekly_Sales</th>\n",
       "      <th>Store</th>\n",
       "      <th>Dept</th>\n",
       "      <th>Date</th>\n",
       "      <th>IsHoliday</th>\n",
       "      <th>Type</th>\n",
       "      <th>Size</th>\n",
       "      <th>Temperature</th>\n",
       "      <th>Fuel_Price</th>\n",
       "      <th>MarkDown1</th>\n",
       "      <th>...</th>\n",
       "      <th>MarkDown3</th>\n",
       "      <th>MarkDown4</th>\n",
       "      <th>MarkDown5</th>\n",
       "      <th>CPI</th>\n",
       "      <th>Unemployment</th>\n",
       "      <th>Is_M1</th>\n",
       "      <th>Is_M2</th>\n",
       "      <th>Is_M3</th>\n",
       "      <th>Is_M4</th>\n",
       "      <th>Is_M5</th>\n",
       "    </tr>\n",
       "  </thead>\n",
       "  <tbody>\n",
       "    <tr>\n",
       "      <th>421568</th>\n",
       "      <td>760.01</td>\n",
       "      <td>45</td>\n",
       "      <td>98</td>\n",
       "      <td>2012-10-19</td>\n",
       "      <td>False</td>\n",
       "      <td>B</td>\n",
       "      <td>118221</td>\n",
       "      <td>56.47</td>\n",
       "      <td>3.969</td>\n",
       "      <td>2004.02</td>\n",
       "      <td>...</td>\n",
       "      <td>3.18</td>\n",
       "      <td>437.73</td>\n",
       "      <td>1537.49</td>\n",
       "      <td>192.330854</td>\n",
       "      <td>8.667</td>\n",
       "      <td>True</td>\n",
       "      <td>False</td>\n",
       "      <td>True</td>\n",
       "      <td>True</td>\n",
       "      <td>True</td>\n",
       "    </tr>\n",
       "    <tr>\n",
       "      <th>421569</th>\n",
       "      <td>1076.80</td>\n",
       "      <td>45</td>\n",
       "      <td>98</td>\n",
       "      <td>2012-10-26</td>\n",
       "      <td>False</td>\n",
       "      <td>B</td>\n",
       "      <td>118221</td>\n",
       "      <td>58.85</td>\n",
       "      <td>3.882</td>\n",
       "      <td>4018.91</td>\n",
       "      <td>...</td>\n",
       "      <td>100.00</td>\n",
       "      <td>211.94</td>\n",
       "      <td>858.33</td>\n",
       "      <td>192.308899</td>\n",
       "      <td>8.667</td>\n",
       "      <td>True</td>\n",
       "      <td>True</td>\n",
       "      <td>True</td>\n",
       "      <td>True</td>\n",
       "      <td>True</td>\n",
       "    </tr>\n",
       "  </tbody>\n",
       "</table>\n",
       "<p>2 rows × 21 columns</p>\n",
       "</div>"
      ],
      "text/plain": [
       "        Weekly_Sales  Store  Dept        Date  IsHoliday Type    Size  \\\n",
       "421568        760.01     45    98  2012-10-19      False    B  118221   \n",
       "421569       1076.80     45    98  2012-10-26      False    B  118221   \n",
       "\n",
       "        Temperature  Fuel_Price  MarkDown1  ...  MarkDown3  MarkDown4  \\\n",
       "421568        56.47       3.969    2004.02  ...       3.18     437.73   \n",
       "421569        58.85       3.882    4018.91  ...     100.00     211.94   \n",
       "\n",
       "        MarkDown5         CPI  Unemployment  Is_M1  Is_M2  Is_M3  Is_M4  Is_M5  \n",
       "421568    1537.49  192.330854         8.667   True  False   True   True   True  \n",
       "421569     858.33  192.308899         8.667   True   True   True   True   True  \n",
       "\n",
       "[2 rows x 21 columns]"
      ]
     },
     "execution_count": 11,
     "metadata": {},
     "output_type": "execute_result"
    }
   ],
   "source": [
    "df_train.tail(2)"
   ]
  },
  {
   "cell_type": "markdown",
   "metadata": {},
   "source": [
    "### 4.2 Fill nulls in MarkDown fields with 0, and in CPI/Unemployment columns with last valid values \n",
    "Having created additional features to indicate presence of markdown data, let us fill all Nulls in markdown fields with '0'.\n",
    "For CPI/Unemployment nulls, filling with last valid value seem to be better choice rather than filling with average/median or nulls. pandas has `'ffill'` method to achieve the same."
   ]
  },
  {
   "cell_type": "code",
   "execution_count": 12,
   "metadata": {},
   "outputs": [
    {
     "name": "stdout",
     "output_type": "stream",
     "text": [
      "Nulls before filling values\n",
      "Nulls in training data\n"
     ]
    },
    {
     "data": {
      "text/plain": [
       "1422431"
      ]
     },
     "execution_count": 12,
     "metadata": {},
     "output_type": "execute_result"
    },
    {
     "name": "stdout",
     "output_type": "stream",
     "text": [
      "Nulls in test data\n"
     ]
    },
    {
     "data": {
      "text/plain": [
       "127817"
      ]
     },
     "execution_count": 12,
     "metadata": {},
     "output_type": "execute_result"
    },
    {
     "name": "stdout",
     "output_type": "stream",
     "text": [
      "Nulls after filling values\n"
     ]
    },
    {
     "data": {
      "text/plain": [
       "(0, 0)"
      ]
     },
     "execution_count": 12,
     "metadata": {},
     "output_type": "execute_result"
    }
   ],
   "source": [
    "# fill markdown nulls with 0, CPI/Unemployment Nulls using forward fill (last valid value)\n",
    "\n",
    "print('Nulls before filling values')\n",
    "print ('Nulls in training data')\n",
    "df_train.isnull().sum().sum()\n",
    "\n",
    "print ('Nulls in test data')\n",
    "df_test.isnull().sum().sum()\n",
    "\n",
    "df_train.fillna(0, inplace=True)\n",
    "df_test.CPI.fillna(method ='ffill', inplace=True)\n",
    "df_test.Unemployment.fillna(method ='ffill', inplace=True)\n",
    "df_test.fillna(0, inplace = True)\n",
    "\n",
    "print('Nulls after filling values')\n",
    "df_train.isnull().sum().sum(), df_test.isnull().sum().sum()"
   ]
  },
  {
   "cell_type": "code",
   "execution_count": 13,
   "metadata": {},
   "outputs": [
    {
     "data": {
      "text/plain": [
       "Store             int64\n",
       "Dept              int64\n",
       "Date             object\n",
       "IsHoliday          bool\n",
       "Type             object\n",
       "Size              int64\n",
       "Temperature     float64\n",
       "Fuel_Price      float64\n",
       "MarkDown1       float64\n",
       "MarkDown2       float64\n",
       "MarkDown3       float64\n",
       "MarkDown4       float64\n",
       "MarkDown5       float64\n",
       "CPI             float64\n",
       "Unemployment    float64\n",
       "Is_M1              bool\n",
       "Is_M2              bool\n",
       "Is_M3              bool\n",
       "Is_M4              bool\n",
       "Is_M5              bool\n",
       "dtype: object"
      ]
     },
     "execution_count": 13,
     "metadata": {},
     "output_type": "execute_result"
    }
   ],
   "source": [
    "# check data types\n",
    "df_test.dtypes"
   ]
  },
  {
   "cell_type": "markdown",
   "metadata": {},
   "source": [
    "### 4.3 Convert Date field to datatime format, that will help us in extracting Month/Week feature"
   ]
  },
  {
   "cell_type": "code",
   "execution_count": 14,
   "metadata": {},
   "outputs": [],
   "source": [
    "# Convert 'Date' column to 'datetime' format\n",
    "df_train['Date'] = pd.to_datetime(df_train['Date'], infer_datetime_format=True)\n",
    "df_test['Date'] = pd.to_datetime(df_test['Date'], infer_datetime_format=True)\n",
    "\n",
    "# to ease with one hot encoding, lets convert IsHoliday feature to 'uint8'\n",
    "df_train.IsHoliday = df_train.IsHoliday.astype('uint8')\n",
    "df_test.IsHoliday = df_test.IsHoliday.astype('uint8')"
   ]
  },
  {
   "cell_type": "code",
   "execution_count": 15,
   "metadata": {},
   "outputs": [
    {
     "data": {
      "text/html": [
       "<div>\n",
       "<style scoped>\n",
       "    .dataframe tbody tr th:only-of-type {\n",
       "        vertical-align: middle;\n",
       "    }\n",
       "\n",
       "    .dataframe tbody tr th {\n",
       "        vertical-align: top;\n",
       "    }\n",
       "\n",
       "    .dataframe thead th {\n",
       "        text-align: right;\n",
       "    }\n",
       "</style>\n",
       "<table border=\"1\" class=\"dataframe\">\n",
       "  <thead>\n",
       "    <tr style=\"text-align: right;\">\n",
       "      <th></th>\n",
       "      <th>Weekly_Sales</th>\n",
       "      <th>Store</th>\n",
       "      <th>Dept</th>\n",
       "      <th>Date</th>\n",
       "      <th>IsHoliday</th>\n",
       "      <th>Type</th>\n",
       "      <th>Size</th>\n",
       "      <th>Temperature</th>\n",
       "      <th>Fuel_Price</th>\n",
       "      <th>MarkDown1</th>\n",
       "      <th>...</th>\n",
       "      <th>MarkDown3</th>\n",
       "      <th>MarkDown4</th>\n",
       "      <th>MarkDown5</th>\n",
       "      <th>CPI</th>\n",
       "      <th>Unemployment</th>\n",
       "      <th>Is_M1</th>\n",
       "      <th>Is_M2</th>\n",
       "      <th>Is_M3</th>\n",
       "      <th>Is_M4</th>\n",
       "      <th>Is_M5</th>\n",
       "    </tr>\n",
       "  </thead>\n",
       "  <tbody>\n",
       "    <tr>\n",
       "      <th>0</th>\n",
       "      <td>24924.50</td>\n",
       "      <td>1</td>\n",
       "      <td>1</td>\n",
       "      <td>2010-02-05</td>\n",
       "      <td>0</td>\n",
       "      <td>A</td>\n",
       "      <td>151315</td>\n",
       "      <td>42.31</td>\n",
       "      <td>2.572</td>\n",
       "      <td>0.0</td>\n",
       "      <td>...</td>\n",
       "      <td>0.0</td>\n",
       "      <td>0.0</td>\n",
       "      <td>0.0</td>\n",
       "      <td>211.096358</td>\n",
       "      <td>8.106</td>\n",
       "      <td>False</td>\n",
       "      <td>False</td>\n",
       "      <td>False</td>\n",
       "      <td>False</td>\n",
       "      <td>False</td>\n",
       "    </tr>\n",
       "    <tr>\n",
       "      <th>1</th>\n",
       "      <td>46039.49</td>\n",
       "      <td>1</td>\n",
       "      <td>1</td>\n",
       "      <td>2010-02-12</td>\n",
       "      <td>1</td>\n",
       "      <td>A</td>\n",
       "      <td>151315</td>\n",
       "      <td>38.51</td>\n",
       "      <td>2.548</td>\n",
       "      <td>0.0</td>\n",
       "      <td>...</td>\n",
       "      <td>0.0</td>\n",
       "      <td>0.0</td>\n",
       "      <td>0.0</td>\n",
       "      <td>211.242170</td>\n",
       "      <td>8.106</td>\n",
       "      <td>False</td>\n",
       "      <td>False</td>\n",
       "      <td>False</td>\n",
       "      <td>False</td>\n",
       "      <td>False</td>\n",
       "    </tr>\n",
       "  </tbody>\n",
       "</table>\n",
       "<p>2 rows × 21 columns</p>\n",
       "</div>"
      ],
      "text/plain": [
       "   Weekly_Sales  Store  Dept       Date  IsHoliday Type    Size  Temperature  \\\n",
       "0      24924.50      1     1 2010-02-05          0    A  151315        42.31   \n",
       "1      46039.49      1     1 2010-02-12          1    A  151315        38.51   \n",
       "\n",
       "   Fuel_Price  MarkDown1  ...  MarkDown3  MarkDown4  MarkDown5         CPI  \\\n",
       "0       2.572        0.0  ...        0.0        0.0        0.0  211.096358   \n",
       "1       2.548        0.0  ...        0.0        0.0        0.0  211.242170   \n",
       "\n",
       "   Unemployment  Is_M1  Is_M2  Is_M3  Is_M4  Is_M5  \n",
       "0         8.106  False  False  False  False  False  \n",
       "1         8.106  False  False  False  False  False  \n",
       "\n",
       "[2 rows x 21 columns]"
      ]
     },
     "execution_count": 15,
     "metadata": {},
     "output_type": "execute_result"
    }
   ],
   "source": [
    "df_train.head(2)"
   ]
  },
  {
   "cell_type": "markdown",
   "metadata": {},
   "source": [
    "### 4.4 Creating new feature for Month"
   ]
  },
  {
   "cell_type": "code",
   "execution_count": 16,
   "metadata": {},
   "outputs": [],
   "source": [
    "df_train['Month']= df_train.Date.dt.month.map(str)\n",
    "df_test['Month']= df_test.Date.dt.month.map(str)\n",
    "\n",
    "# Also Convert Store/Dept columns to type 'Object' to help for One-Hot-Encoding later\n",
    "\n",
    "df_train['Store'] ='S'+df_train.Store.map(str)\n",
    "df_train['Dept'] = 'D'+df_train.Dept.map(str)\n",
    "\n",
    "df_test['Store'] = 'S'+df_test.Store.map(str)\n",
    "df_test['Dept'] = 'D'+df_test.Dept.map(str)"
   ]
  },
  {
   "cell_type": "markdown",
   "metadata": {},
   "source": [
    "### 4.5. Create new features for Median Sales and Median Markdowns\n",
    "We will create a grouped dataframe with stores/Dept/Month/IsHoliday as the index. we will use the same index for merging these new features with our main train and test datasets."
   ]
  },
  {
   "cell_type": "code",
   "execution_count": 17,
   "metadata": {},
   "outputs": [
    {
     "data": {
      "text/html": [
       "<div>\n",
       "<style scoped>\n",
       "    .dataframe tbody tr th:only-of-type {\n",
       "        vertical-align: middle;\n",
       "    }\n",
       "\n",
       "    .dataframe tbody tr th {\n",
       "        vertical-align: top;\n",
       "    }\n",
       "\n",
       "    .dataframe thead th {\n",
       "        text-align: right;\n",
       "    }\n",
       "</style>\n",
       "<table border=\"1\" class=\"dataframe\">\n",
       "  <thead>\n",
       "    <tr style=\"text-align: right;\">\n",
       "      <th></th>\n",
       "      <th></th>\n",
       "      <th></th>\n",
       "      <th></th>\n",
       "      <th>Median_Sales</th>\n",
       "    </tr>\n",
       "    <tr>\n",
       "      <th>Store</th>\n",
       "      <th>Dept</th>\n",
       "      <th>Month</th>\n",
       "      <th>IsHoliday</th>\n",
       "      <th></th>\n",
       "    </tr>\n",
       "  </thead>\n",
       "  <tbody>\n",
       "    <tr>\n",
       "      <th rowspan=\"2\" valign=\"top\">S1</th>\n",
       "      <th rowspan=\"2\" valign=\"top\">D1</th>\n",
       "      <th>1</th>\n",
       "      <th>0</th>\n",
       "      <td>17350.585</td>\n",
       "    </tr>\n",
       "    <tr>\n",
       "      <th>10</th>\n",
       "      <th>0</th>\n",
       "      <td>23388.030</td>\n",
       "    </tr>\n",
       "  </tbody>\n",
       "</table>\n",
       "</div>"
      ],
      "text/plain": [
       "                            Median_Sales\n",
       "Store Dept Month IsHoliday              \n",
       "S1    D1   1     0             17350.585\n",
       "           10    0             23388.030"
      ]
     },
     "execution_count": 17,
     "metadata": {},
     "output_type": "execute_result"
    },
    {
     "data": {
      "text/html": [
       "<div>\n",
       "<style scoped>\n",
       "    .dataframe tbody tr th:only-of-type {\n",
       "        vertical-align: middle;\n",
       "    }\n",
       "\n",
       "    .dataframe tbody tr th {\n",
       "        vertical-align: top;\n",
       "    }\n",
       "\n",
       "    .dataframe thead th {\n",
       "        text-align: right;\n",
       "    }\n",
       "</style>\n",
       "<table border=\"1\" class=\"dataframe\">\n",
       "  <thead>\n",
       "    <tr style=\"text-align: right;\">\n",
       "      <th></th>\n",
       "      <th></th>\n",
       "      <th></th>\n",
       "      <th></th>\n",
       "      <th>Median_MarkDown1</th>\n",
       "      <th>Median_MarkDown2</th>\n",
       "      <th>Median_MarkDown3</th>\n",
       "      <th>Median_MarkDown4</th>\n",
       "      <th>Median_MarkDown5</th>\n",
       "    </tr>\n",
       "    <tr>\n",
       "      <th>Store</th>\n",
       "      <th>Dept</th>\n",
       "      <th>Month</th>\n",
       "      <th>IsHoliday</th>\n",
       "      <th></th>\n",
       "      <th></th>\n",
       "      <th></th>\n",
       "      <th></th>\n",
       "      <th></th>\n",
       "    </tr>\n",
       "  </thead>\n",
       "  <tbody>\n",
       "    <tr>\n",
       "      <th rowspan=\"2\" valign=\"top\">S1</th>\n",
       "      <th rowspan=\"2\" valign=\"top\">D1</th>\n",
       "      <th>1</th>\n",
       "      <th>0</th>\n",
       "      <td>582.23</td>\n",
       "      <td>541.37</td>\n",
       "      <td>16.94</td>\n",
       "      <td>5.5</td>\n",
       "      <td>611.095</td>\n",
       "    </tr>\n",
       "    <tr>\n",
       "      <th>10</th>\n",
       "      <th>0</th>\n",
       "      <td>0.00</td>\n",
       "      <td>0.00</td>\n",
       "      <td>0.00</td>\n",
       "      <td>0.0</td>\n",
       "      <td>0.000</td>\n",
       "    </tr>\n",
       "  </tbody>\n",
       "</table>\n",
       "</div>"
      ],
      "text/plain": [
       "                            Median_MarkDown1  Median_MarkDown2  \\\n",
       "Store Dept Month IsHoliday                                       \n",
       "S1    D1   1     0                    582.23            541.37   \n",
       "           10    0                      0.00              0.00   \n",
       "\n",
       "                            Median_MarkDown3  Median_MarkDown4  \\\n",
       "Store Dept Month IsHoliday                                       \n",
       "S1    D1   1     0                     16.94               5.5   \n",
       "           10    0                      0.00               0.0   \n",
       "\n",
       "                            Median_MarkDown5  \n",
       "Store Dept Month IsHoliday                    \n",
       "S1    D1   1     0                   611.095  \n",
       "           10    0                     0.000  "
      ]
     },
     "execution_count": 17,
     "metadata": {},
     "output_type": "execute_result"
    },
    {
     "data": {
      "text/html": [
       "<div>\n",
       "<style scoped>\n",
       "    .dataframe tbody tr th:only-of-type {\n",
       "        vertical-align: middle;\n",
       "    }\n",
       "\n",
       "    .dataframe tbody tr th {\n",
       "        vertical-align: top;\n",
       "    }\n",
       "\n",
       "    .dataframe thead th {\n",
       "        text-align: right;\n",
       "    }\n",
       "</style>\n",
       "<table border=\"1\" class=\"dataframe\">\n",
       "  <thead>\n",
       "    <tr style=\"text-align: right;\">\n",
       "      <th></th>\n",
       "      <th></th>\n",
       "      <th></th>\n",
       "      <th></th>\n",
       "      <th>Median_MarkDown1</th>\n",
       "      <th>Median_MarkDown2</th>\n",
       "      <th>Median_MarkDown3</th>\n",
       "      <th>Median_MarkDown4</th>\n",
       "      <th>Median_MarkDown5</th>\n",
       "    </tr>\n",
       "    <tr>\n",
       "      <th>Store</th>\n",
       "      <th>Dept</th>\n",
       "      <th>Month</th>\n",
       "      <th>IsHoliday</th>\n",
       "      <th></th>\n",
       "      <th></th>\n",
       "      <th></th>\n",
       "      <th></th>\n",
       "      <th></th>\n",
       "    </tr>\n",
       "  </thead>\n",
       "  <tbody>\n",
       "    <tr>\n",
       "      <th rowspan=\"2\" valign=\"top\">S1</th>\n",
       "      <th rowspan=\"2\" valign=\"top\">D1</th>\n",
       "      <th>1</th>\n",
       "      <th>0</th>\n",
       "      <td>2493.385</td>\n",
       "      <td>9847.030</td>\n",
       "      <td>8.025</td>\n",
       "      <td>235.990</td>\n",
       "      <td>2920.210</td>\n",
       "    </tr>\n",
       "    <tr>\n",
       "      <th>11</th>\n",
       "      <th>0</th>\n",
       "      <td>8231.360</td>\n",
       "      <td>1831.495</td>\n",
       "      <td>77.300</td>\n",
       "      <td>2386.525</td>\n",
       "      <td>6383.425</td>\n",
       "    </tr>\n",
       "  </tbody>\n",
       "</table>\n",
       "</div>"
      ],
      "text/plain": [
       "                            Median_MarkDown1  Median_MarkDown2  \\\n",
       "Store Dept Month IsHoliday                                       \n",
       "S1    D1   1     0                  2493.385          9847.030   \n",
       "           11    0                  8231.360          1831.495   \n",
       "\n",
       "                            Median_MarkDown3  Median_MarkDown4  \\\n",
       "Store Dept Month IsHoliday                                       \n",
       "S1    D1   1     0                     8.025           235.990   \n",
       "           11    0                    77.300          2386.525   \n",
       "\n",
       "                            Median_MarkDown5  \n",
       "Store Dept Month IsHoliday                    \n",
       "S1    D1   1     0                  2920.210  \n",
       "           11    0                  6383.425  "
      ]
     },
     "execution_count": 17,
     "metadata": {},
     "output_type": "execute_result"
    }
   ],
   "source": [
    "# First create a separate dataframe with Median data grouped together for Store/Dept/Month/Hoiliday\n",
    "median_sales = df_train.pivot_table(index = ['Store', 'Dept', 'Month', 'IsHoliday'], \n",
    "                                                 values = ['Weekly_Sales'], aggfunc = np.median) \n",
    "\n",
    "median_markdowns_train = df_train.pivot_table(index = ['Store', 'Dept', 'Month', 'IsHoliday'], \n",
    "                                                 values = ['MarkDown1', 'MarkDown2', 'MarkDown3', 'MarkDown4', 'MarkDown5'], \n",
    "                                                 aggfunc = np.median) \n",
    "\n",
    "median_markdowns_test = df_test.pivot_table(index = ['Store','Dept', 'Month', 'IsHoliday'], \n",
    "                                                 values = ['MarkDown1', 'MarkDown2', 'MarkDown3', 'MarkDown4', 'MarkDown5'], \n",
    "                                                 aggfunc = np.median) \n",
    "\n",
    "median_sales.columns = ['Median_Sales']\n",
    "median_markdowns_train.columns = ['Median_MarkDown1','Median_MarkDown2', 'Median_MarkDown3', \n",
    "                                  'Median_MarkDown4', 'Median_MarkDown5']\n",
    "median_markdowns_test.columns = ['Median_MarkDown1','Median_MarkDown2', 'Median_MarkDown3', \n",
    "                                 'Median_MarkDown4', 'Median_MarkDown5']\n",
    "\n",
    "median_sales.head(2)\n",
    "median_markdowns_train.head(2)\n",
    "median_markdowns_test.head(2)\n"
   ]
  },
  {
   "cell_type": "markdown",
   "metadata": {},
   "source": [
    "### 4.6 Merge Median Sales feature to train and test data "
   ]
  },
  {
   "cell_type": "code",
   "execution_count": 18,
   "metadata": {},
   "outputs": [],
   "source": [
    "df_train = df_train.merge(median_sales, how = 'left', on = ['Dept','Store','Month','IsHoliday'])\n",
    "df_test = df_test.merge(median_sales, how = 'left', on = ['Dept','Store','Month','IsHoliday'])"
   ]
  },
  {
   "cell_type": "code",
   "execution_count": 19,
   "metadata": {},
   "outputs": [
    {
     "data": {
      "text/plain": [
       "Store             0\n",
       "Dept              0\n",
       "Date              0\n",
       "IsHoliday         0\n",
       "Type              0\n",
       "Size              0\n",
       "Temperature       0\n",
       "Fuel_Price        0\n",
       "MarkDown1         0\n",
       "MarkDown2         0\n",
       "MarkDown3         0\n",
       "MarkDown4         0\n",
       "MarkDown5         0\n",
       "CPI               0\n",
       "Unemployment      0\n",
       "Is_M1             0\n",
       "Is_M2             0\n",
       "Is_M3             0\n",
       "Is_M4             0\n",
       "Is_M5             0\n",
       "Month             0\n",
       "Median_Sales    658\n",
       "dtype: int64"
      ]
     },
     "execution_count": 19,
     "metadata": {},
     "output_type": "execute_result"
    }
   ],
   "source": [
    "# Check Nulls after merging\n",
    "df_test.isnull().sum()"
   ]
  },
  {
   "cell_type": "markdown",
   "metadata": {},
   "source": [
    "#### lets fill nulls in median sales with median of the column"
   ]
  },
  {
   "cell_type": "code",
   "execution_count": 20,
   "metadata": {},
   "outputs": [
    {
     "data": {
      "text/plain": [
       "0"
      ]
     },
     "execution_count": 20,
     "metadata": {},
     "output_type": "execute_result"
    }
   ],
   "source": [
    "df_test.Median_Sales.fillna(df_test.Median_Sales.median(),inplace = True)\n",
    "df_test.isnull().sum().sum()"
   ]
  },
  {
   "cell_type": "markdown",
   "metadata": {},
   "source": [
    "### 4.7 Merging median MarkDowns"
   ]
  },
  {
   "cell_type": "code",
   "execution_count": 21,
   "metadata": {},
   "outputs": [
    {
     "name": "stdout",
     "output_type": "stream",
     "text": [
      "train and test dataframe shape before merging median markdowns: ((421570, 23), (115064, 22))\n",
      "Nulls in train and test dataframe are (0, 0)\n",
      "train and test dataframe shape after merging median markdowns:((421570, 28), (115064, 27))\n",
      "Nulls in train and test dataframe are (0, 0)\n"
     ]
    }
   ],
   "source": [
    "# shape and nulls before merging median MarkDowns\n",
    "print(f'train and test dataframe shape before merging median markdowns: {df_train.shape, df_test.shape}')\n",
    "print(f'Nulls in train and test dataframe are {df_train.isnull().sum().sum(), df_test.isnull().sum().sum()}')\n",
    "\n",
    "\n",
    "df_train = df_train.merge(median_markdowns_train, how = 'left', on = ['Dept','Store','Month','IsHoliday'])\n",
    "df_test = df_test.merge(median_markdowns_test, how = 'left', on = ['Dept','Store','Month','IsHoliday'])\n",
    "\n",
    "# shape and nulls after merging median MarkDowns\n",
    "print(f'train and test dataframe shape after merging median markdowns:{df_train.shape, df_test.shape}')\n",
    "print(f'Nulls in train and test dataframe are {df_train.isnull().sum().sum(), df_test.isnull().sum().sum()}')"
   ]
  },
  {
   "cell_type": "markdown",
   "metadata": {},
   "source": [
    "### 4.8 Feature Engineering..create new features to indicate weeks during, before and after special holidays\n",
    "Considering the importance of markdowns explicitely mentioned in the dataset, we will create some new features to indicate if a specific week is covering  Superbowl, Christmas, Thanksgiving and Labor Day holiday. \n",
    "\n",
    "The dates are already provided with the dataset. In order to cover the impact of sales before or after the special holiday week, we will also create new features to indicate the same. "
   ]
  },
  {
   "cell_type": "markdown",
   "metadata": {},
   "source": [
    "#### First create our lists of weeks with special holidays ,week before and week after"
   ]
  },
  {
   "cell_type": "code",
   "execution_count": 22,
   "metadata": {},
   "outputs": [],
   "source": [
    "Super_Bowl = ['2010-02-12', '2011-02-11', '2012-02-10', '2013-02-08'] # 12-Feb-10, 11-Feb-11, 10-Feb-12, 8-Feb-13\n",
    "Labor_Day = ['2010-09-10', '2011-09-09', '2012-09-07', '2013-09-06'] #10-Sep-10, 9-Sep-11, 7-Sep-12, 6-Sep-13\n",
    "Thanksgiving = ['2010-11-26', '2011-11-25', '2012-11-23', '2013-11-29'] # 26-Nov-10, 25-Nov-11, 23-Nov-12, 29-Nov-13\n",
    "Christmas = ['2010-12-31', '2011-12-30', '2012-12-28', '2013-12-27'] # 31-Dec-10, 30-Dec-11, 28-Dec-12, 27-Dec-13\n",
    "\n",
    "Before_Super_Bowl = ['2010-02-5', '2011-02-4', '2012-02-3', '2013-02-01'] \n",
    "Before_Labor_Day = ['2010-09-3', '2011-09-02', '2012-08-31', '2013-08-30'] \n",
    "Before_Thanksgiving = ['2010-11-19', '2011-11-18', '2012-11-16', '2013-11-22'] \n",
    "Before_Christmas = ['2010-12-24', '2011-12-23', '2012-12-21', '2013-12-20']\n",
    "\n",
    "After_Super_Bowl = ['2010-02-19', '2011-02-18', '2012-02-17', '2013-02-15'] \n",
    "After_Labor_Day = ['2010-09-17', '2011-09-16', '2012-09-14', '2013-09-13'] \n",
    "After_Thanksgiving = ['2010-12-03', '2011-12-02', '2012-11-30', '2013-12-06'] \n",
    "After_Christmas = ['2011-01-07', '2012-01-06', '2013-01-04', '2014-01-03'] \n",
    "\n",
    "#to make our task easier, lets make a list of lists containg dates of special holiday related weeks\n",
    "super_list = [Super_Bowl, Labor_Day, Thanksgiving, Christmas, \n",
    "         Before_Super_Bowl, Before_Labor_Day, Before_Thanksgiving, Before_Christmas,\n",
    "         After_Super_Bowl, After_Labor_Day, After_Thanksgiving, After_Christmas]"
   ]
  },
  {
   "cell_type": "markdown",
   "metadata": {},
   "source": [
    "#### Now create these additional 12  features in both train and test dataframes "
   ]
  },
  {
   "cell_type": "code",
   "execution_count": 23,
   "metadata": {},
   "outputs": [],
   "source": [
    "# create a list of new feature names\n",
    "new_feature = ['Super_Bowl', 'Labor_Day', 'Thanksgiving', 'Christmas', \n",
    "         'Before_Super_Bowl', 'Before_Labor_Day', 'Before_Thanksgiving', 'Before_Christmas',\n",
    "         'After_Super_Bowl', 'After_Labor_Day', 'After_Thanksgiving', 'After_Christmas']\n",
    "\n",
    "# iterate through above lists and create new features \n",
    "for i in range(len(super_list)):\n",
    "\n",
    "    df_train[new_feature[i]] = np.where((df_train.Date.isin(super_list[i])), True, False)\n",
    "    df_test[new_feature[i]] = np.where((df_test.Date.isin(super_list[i])), True, False)"
   ]
  },
  {
   "cell_type": "code",
   "execution_count": 24,
   "metadata": {},
   "outputs": [
    {
     "data": {
      "text/html": [
       "<div>\n",
       "<style scoped>\n",
       "    .dataframe tbody tr th:only-of-type {\n",
       "        vertical-align: middle;\n",
       "    }\n",
       "\n",
       "    .dataframe tbody tr th {\n",
       "        vertical-align: top;\n",
       "    }\n",
       "\n",
       "    .dataframe thead th {\n",
       "        text-align: right;\n",
       "    }\n",
       "</style>\n",
       "<table border=\"1\" class=\"dataframe\">\n",
       "  <thead>\n",
       "    <tr style=\"text-align: right;\">\n",
       "      <th></th>\n",
       "      <th>Weekly_Sales</th>\n",
       "      <th>Store</th>\n",
       "      <th>Dept</th>\n",
       "      <th>Date</th>\n",
       "      <th>IsHoliday</th>\n",
       "      <th>Type</th>\n",
       "      <th>Size</th>\n",
       "      <th>Temperature</th>\n",
       "      <th>Fuel_Price</th>\n",
       "      <th>MarkDown1</th>\n",
       "      <th>...</th>\n",
       "      <th>Thanksgiving</th>\n",
       "      <th>Christmas</th>\n",
       "      <th>Before_Super_Bowl</th>\n",
       "      <th>Before_Labor_Day</th>\n",
       "      <th>Before_Thanksgiving</th>\n",
       "      <th>Before_Christmas</th>\n",
       "      <th>After_Super_Bowl</th>\n",
       "      <th>After_Labor_Day</th>\n",
       "      <th>After_Thanksgiving</th>\n",
       "      <th>After_Christmas</th>\n",
       "    </tr>\n",
       "  </thead>\n",
       "  <tbody>\n",
       "    <tr>\n",
       "      <th>0</th>\n",
       "      <td>24924.50</td>\n",
       "      <td>S1</td>\n",
       "      <td>D1</td>\n",
       "      <td>2010-02-05</td>\n",
       "      <td>0</td>\n",
       "      <td>A</td>\n",
       "      <td>151315</td>\n",
       "      <td>42.31</td>\n",
       "      <td>2.572</td>\n",
       "      <td>0.0</td>\n",
       "      <td>...</td>\n",
       "      <td>False</td>\n",
       "      <td>False</td>\n",
       "      <td>True</td>\n",
       "      <td>False</td>\n",
       "      <td>False</td>\n",
       "      <td>False</td>\n",
       "      <td>False</td>\n",
       "      <td>False</td>\n",
       "      <td>False</td>\n",
       "      <td>False</td>\n",
       "    </tr>\n",
       "    <tr>\n",
       "      <th>1</th>\n",
       "      <td>46039.49</td>\n",
       "      <td>S1</td>\n",
       "      <td>D1</td>\n",
       "      <td>2010-02-12</td>\n",
       "      <td>1</td>\n",
       "      <td>A</td>\n",
       "      <td>151315</td>\n",
       "      <td>38.51</td>\n",
       "      <td>2.548</td>\n",
       "      <td>0.0</td>\n",
       "      <td>...</td>\n",
       "      <td>False</td>\n",
       "      <td>False</td>\n",
       "      <td>False</td>\n",
       "      <td>False</td>\n",
       "      <td>False</td>\n",
       "      <td>False</td>\n",
       "      <td>False</td>\n",
       "      <td>False</td>\n",
       "      <td>False</td>\n",
       "      <td>False</td>\n",
       "    </tr>\n",
       "  </tbody>\n",
       "</table>\n",
       "<p>2 rows × 40 columns</p>\n",
       "</div>"
      ],
      "text/plain": [
       "   Weekly_Sales Store Dept       Date  IsHoliday Type    Size  Temperature  \\\n",
       "0      24924.50    S1   D1 2010-02-05          0    A  151315        42.31   \n",
       "1      46039.49    S1   D1 2010-02-12          1    A  151315        38.51   \n",
       "\n",
       "   Fuel_Price  MarkDown1  ...  Thanksgiving  Christmas  Before_Super_Bowl  \\\n",
       "0       2.572        0.0  ...         False      False               True   \n",
       "1       2.548        0.0  ...         False      False              False   \n",
       "\n",
       "   Before_Labor_Day  Before_Thanksgiving  Before_Christmas  After_Super_Bowl  \\\n",
       "0             False                False             False             False   \n",
       "1             False                False             False             False   \n",
       "\n",
       "   After_Labor_Day  After_Thanksgiving  After_Christmas  \n",
       "0            False               False            False  \n",
       "1            False               False            False  \n",
       "\n",
       "[2 rows x 40 columns]"
      ]
     },
     "execution_count": 24,
     "metadata": {},
     "output_type": "execute_result"
    }
   ],
   "source": [
    "df_train.head(2)"
   ]
  },
  {
   "cell_type": "markdown",
   "metadata": {},
   "source": [
    "## <span style=\"color:blue\"><u>5. One Hot Encoding</u></span>\n",
    "Before proceeding to apply learning models, we will convert all categorical('string') features to new features using One Hot Encoding. This is much less relevant for Random Forest alogorithms, but critical for other category of models."
   ]
  },
  {
   "cell_type": "code",
   "execution_count": 25,
   "metadata": {},
   "outputs": [
    {
     "data": {
      "text/plain": [
       "{'Month_10', 'Month_8', 'Month_9', 'Weekly_Sales'}"
      ]
     },
     "execution_count": 25,
     "metadata": {},
     "output_type": "execute_result"
    },
    {
     "data": {
      "text/plain": [
       "(177, 173)"
      ]
     },
     "execution_count": 25,
     "metadata": {},
     "output_type": "execute_result"
    }
   ],
   "source": [
    "# Create One_hot_encoded features (pandas considers all columns of dtype 'Object' for OHE, unless separately provided)\n",
    "df_train = pd.get_dummies(df_train)\n",
    "df_test = pd.get_dummies(df_test)\n",
    "\n",
    "# Check for difference in train and test dataset after OHE (Common problem if categories are not consistent in train and test data)\n",
    "set(df_train.columns.tolist()) - set(df_test.columns.tolist())\n",
    "len(df_train.columns.tolist()), len(df_test.columns.tolist())"
   ]
  },
  {
   "cell_type": "markdown",
   "metadata": {},
   "source": [
    "It seem that test data has no records for months 8, 9 & 10. However in order to run machine learning models, both train and test data should have common set of feature variables, so we will create 3 new dummy features for these months.."
   ]
  },
  {
   "cell_type": "code",
   "execution_count": 26,
   "metadata": {},
   "outputs": [
    {
     "data": {
      "text/plain": [
       "{'Weekly_Sales'}"
      ]
     },
     "execution_count": 26,
     "metadata": {},
     "output_type": "execute_result"
    },
    {
     "data": {
      "text/plain": [
       "(177, 176)"
      ]
     },
     "execution_count": 26,
     "metadata": {},
     "output_type": "execute_result"
    }
   ],
   "source": [
    "#lets create dummy columns with false values for missing months in test dataset (also convert to uint8 for ease with OHE)\n",
    "missed_months = ['Month_10', 'Month_8', 'Month_9']\n",
    "for month in missed_months:\n",
    "    df_test[month]=False\n",
    "    df_test[month]=df_test[month].astype('uint8')\n",
    "\n",
    "# Check the difference between train and test data columns again to verify that only target variable is extra in train data\n",
    "set(df_train.columns.tolist()) - set(df_test.columns.tolist())\n",
    "len(df_train.columns.tolist()), len(df_test.columns.tolist())"
   ]
  },
  {
   "cell_type": "markdown",
   "metadata": {},
   "source": [
    "#### Final check on Nulls"
   ]
  },
  {
   "cell_type": "code",
   "execution_count": 27,
   "metadata": {},
   "outputs": [
    {
     "data": {
      "text/plain": [
       "(0, 0)"
      ]
     },
     "execution_count": 27,
     "metadata": {},
     "output_type": "execute_result"
    }
   ],
   "source": [
    "df_train.isnull().sum().sum(), df_test.isnull().sum().sum()"
   ]
  },
  {
   "cell_type": "markdown",
   "metadata": {},
   "source": [
    "#### Align relative feature positions in train and test dataset(Must do before training models)\n",
    "Also remember that 'Weekly_Sales' is at first column position in train data, but absent in test data'.."
   ]
  },
  {
   "cell_type": "code",
   "execution_count": 28,
   "metadata": {
    "scrolled": true
   },
   "outputs": [
    {
     "data": {
      "text/plain": [
       "array([ True,  True,  True,  True,  True,  True,  True,  True,  True,\n",
       "        True,  True,  True,  True,  True,  True,  True,  True,  True,\n",
       "        True,  True,  True,  True,  True,  True,  True,  True,  True,\n",
       "        True,  True,  True,  True,  True,  True,  True,  True,  True,\n",
       "        True,  True,  True,  True,  True,  True,  True,  True,  True,\n",
       "        True,  True,  True,  True,  True,  True,  True,  True,  True,\n",
       "        True,  True,  True,  True,  True,  True,  True,  True,  True,\n",
       "        True,  True,  True,  True,  True,  True,  True,  True,  True,\n",
       "        True,  True,  True,  True,  True,  True,  True,  True,  True,\n",
       "        True,  True,  True,  True,  True,  True,  True,  True,  True,\n",
       "        True,  True,  True,  True,  True,  True,  True,  True,  True,\n",
       "        True,  True,  True,  True,  True,  True,  True,  True,  True,\n",
       "        True,  True,  True,  True,  True,  True,  True,  True,  True,\n",
       "        True,  True,  True,  True,  True,  True,  True,  True,  True,\n",
       "        True,  True,  True,  True,  True,  True,  True,  True,  True,\n",
       "        True,  True,  True,  True,  True,  True,  True,  True,  True,\n",
       "        True,  True,  True,  True,  True,  True,  True,  True,  True,\n",
       "        True,  True,  True,  True,  True,  True,  True,  True,  True,\n",
       "        True,  True,  True,  True,  True,  True,  True,  True,  True,\n",
       "        True,  True,  True,  True,  True])"
      ]
     },
     "execution_count": 28,
     "metadata": {},
     "output_type": "execute_result"
    }
   ],
   "source": [
    "# lets align the columns in test dataframe with train dataframe \n",
    "df_test = df_test[df_train.columns.tolist()[1:]]\n",
    "\n",
    "#Verify\n",
    "df_train.columns[1:] == df_test.columns\n",
    "# for i in range(len(df_test.columns)):\n",
    "#     print(df_train.columns[i+1], df_test.columns[i])"
   ]
  },
  {
   "cell_type": "markdown",
   "metadata": {},
   "source": [
    "#### We will convert all boolean features to 'uint' format to avoid creating 2 features by one hot encoding (Indicating 'yes/no'), where only one is needed"
   ]
  },
  {
   "cell_type": "code",
   "execution_count": 29,
   "metadata": {},
   "outputs": [
    {
     "data": {
      "text/plain": [
       "True"
      ]
     },
     "execution_count": 29,
     "metadata": {},
     "output_type": "execute_result"
    }
   ],
   "source": [
    "# convert bool types to 'uint8' (as with other OHE columns before training models)\n",
    "bools1 = df_train.select_dtypes(include=['bool']).columns.tolist()\n",
    "bools2 = df_test.select_dtypes(include=['bool']).columns.tolist()\n",
    "\n",
    "bools1 == bools2\n",
    "\n",
    "for item in bools1:\n",
    "    df_train[item]=df_train[item].astype('uint8')\n",
    "for item in bools2:\n",
    "    df_test[item]=df_test[item].astype('uint8')\n"
   ]
  },
  {
   "cell_type": "markdown",
   "metadata": {},
   "source": [
    "##  <span style=\"color:blue\"><u>6.Create new Dataframe for train/test features and target variables</u></span>"
   ]
  },
  {
   "cell_type": "code",
   "execution_count": 30,
   "metadata": {},
   "outputs": [
    {
     "data": {
      "text/plain": [
       "((421570, 176), (421570,), (115064, 176))"
      ]
     },
     "execution_count": 30,
     "metadata": {},
     "output_type": "execute_result"
    }
   ],
   "source": [
    "# Create Train, Target and Test dataframes for models\n",
    "X_train = df_train.drop('Weekly_Sales', axis =1)\n",
    "X_test = df_test\n",
    "y_train = df_train.Weekly_Sales.values.reshape(-1)\n",
    "\n",
    "X_train.shape, y_train.shape, X_test.shape"
   ]
  },
  {
   "cell_type": "markdown",
   "metadata": {},
   "source": [
    "## <span style=\"color:blue\"><u>7. Feature scaling</u></span>"
   ]
  },
  {
   "cell_type": "markdown",
   "metadata": {},
   "source": [
    "#### scaling of int64 and floats\n",
    "#### ( drop date index, if exists, as it gives error for reindexing in below step)\n"
   ]
  },
  {
   "cell_type": "code",
   "execution_count": 31,
   "metadata": {
    "scrolled": true
   },
   "outputs": [
    {
     "name": "stdout",
     "output_type": "stream",
     "text": [
      "Scaled train dataset\n"
     ]
    },
    {
     "data": {
      "text/html": [
       "<div>\n",
       "<style scoped>\n",
       "    .dataframe tbody tr th:only-of-type {\n",
       "        vertical-align: middle;\n",
       "    }\n",
       "\n",
       "    .dataframe tbody tr th {\n",
       "        vertical-align: top;\n",
       "    }\n",
       "\n",
       "    .dataframe thead th {\n",
       "        text-align: right;\n",
       "    }\n",
       "</style>\n",
       "<table border=\"1\" class=\"dataframe\">\n",
       "  <thead>\n",
       "    <tr style=\"text-align: right;\">\n",
       "      <th></th>\n",
       "      <th>IsHoliday</th>\n",
       "      <th>Is_M1</th>\n",
       "      <th>Is_M2</th>\n",
       "      <th>Is_M3</th>\n",
       "      <th>Is_M4</th>\n",
       "      <th>Is_M5</th>\n",
       "      <th>Super_Bowl</th>\n",
       "      <th>Labor_Day</th>\n",
       "      <th>Thanksgiving</th>\n",
       "      <th>Christmas</th>\n",
       "      <th>...</th>\n",
       "      <th>MarkDown4</th>\n",
       "      <th>MarkDown5</th>\n",
       "      <th>CPI</th>\n",
       "      <th>Unemployment</th>\n",
       "      <th>Median_Sales</th>\n",
       "      <th>Median_MarkDown1</th>\n",
       "      <th>Median_MarkDown2</th>\n",
       "      <th>Median_MarkDown3</th>\n",
       "      <th>Median_MarkDown4</th>\n",
       "      <th>Median_MarkDown5</th>\n",
       "    </tr>\n",
       "  </thead>\n",
       "  <tbody>\n",
       "    <tr>\n",
       "      <th>count</th>\n",
       "      <td>421570.000000</td>\n",
       "      <td>421570.000000</td>\n",
       "      <td>421570.000000</td>\n",
       "      <td>421570.000000</td>\n",
       "      <td>421570.000000</td>\n",
       "      <td>421570.000000</td>\n",
       "      <td>421570.000000</td>\n",
       "      <td>421570.000000</td>\n",
       "      <td>421570.000000</td>\n",
       "      <td>421570.000000</td>\n",
       "      <td>...</td>\n",
       "      <td>421570.000000</td>\n",
       "      <td>421570.000000</td>\n",
       "      <td>421570.000000</td>\n",
       "      <td>421570.000000</td>\n",
       "      <td>421570.000000</td>\n",
       "      <td>421570.000000</td>\n",
       "      <td>421570.000000</td>\n",
       "      <td>421570.000000</td>\n",
       "      <td>421570.000000</td>\n",
       "      <td>421570.000000</td>\n",
       "    </tr>\n",
       "    <tr>\n",
       "      <th>mean</th>\n",
       "      <td>0.070358</td>\n",
       "      <td>0.357428</td>\n",
       "      <td>0.263890</td>\n",
       "      <td>0.325192</td>\n",
       "      <td>0.320153</td>\n",
       "      <td>0.359210</td>\n",
       "      <td>0.021100</td>\n",
       "      <td>0.021019</td>\n",
       "      <td>0.014135</td>\n",
       "      <td>0.014104</td>\n",
       "      <td>...</td>\n",
       "      <td>0.016052</td>\n",
       "      <td>0.015322</td>\n",
       "      <td>0.446165</td>\n",
       "      <td>0.391153</td>\n",
       "      <td>0.026337</td>\n",
       "      <td>0.002553</td>\n",
       "      <td>0.004333</td>\n",
       "      <td>0.002972</td>\n",
       "      <td>0.000549</td>\n",
       "      <td>0.003038</td>\n",
       "    </tr>\n",
       "    <tr>\n",
       "      <th>std</th>\n",
       "      <td>0.255750</td>\n",
       "      <td>0.479243</td>\n",
       "      <td>0.440741</td>\n",
       "      <td>0.468447</td>\n",
       "      <td>0.466536</td>\n",
       "      <td>0.479769</td>\n",
       "      <td>0.143717</td>\n",
       "      <td>0.143448</td>\n",
       "      <td>0.118049</td>\n",
       "      <td>0.117922</td>\n",
       "      <td>...</td>\n",
       "      <td>0.057718</td>\n",
       "      <td>0.038773</td>\n",
       "      <td>0.387069</td>\n",
       "      <td>0.178579</td>\n",
       "      <td>0.033390</td>\n",
       "      <td>0.013149</td>\n",
       "      <td>0.028914</td>\n",
       "      <td>0.027893</td>\n",
       "      <td>0.007358</td>\n",
       "      <td>0.010739</td>\n",
       "    </tr>\n",
       "    <tr>\n",
       "      <th>min</th>\n",
       "      <td>0.000000</td>\n",
       "      <td>0.000000</td>\n",
       "      <td>0.000000</td>\n",
       "      <td>0.000000</td>\n",
       "      <td>0.000000</td>\n",
       "      <td>0.000000</td>\n",
       "      <td>0.000000</td>\n",
       "      <td>0.000000</td>\n",
       "      <td>0.000000</td>\n",
       "      <td>0.000000</td>\n",
       "      <td>...</td>\n",
       "      <td>0.000000</td>\n",
       "      <td>0.000000</td>\n",
       "      <td>0.000000</td>\n",
       "      <td>0.000000</td>\n",
       "      <td>0.000000</td>\n",
       "      <td>0.000000</td>\n",
       "      <td>0.000000</td>\n",
       "      <td>0.000000</td>\n",
       "      <td>0.000000</td>\n",
       "      <td>0.000000</td>\n",
       "    </tr>\n",
       "    <tr>\n",
       "      <th>25%</th>\n",
       "      <td>0.000000</td>\n",
       "      <td>0.000000</td>\n",
       "      <td>0.000000</td>\n",
       "      <td>0.000000</td>\n",
       "      <td>0.000000</td>\n",
       "      <td>0.000000</td>\n",
       "      <td>0.000000</td>\n",
       "      <td>0.000000</td>\n",
       "      <td>0.000000</td>\n",
       "      <td>0.000000</td>\n",
       "      <td>...</td>\n",
       "      <td>0.000000</td>\n",
       "      <td>0.000000</td>\n",
       "      <td>0.058898</td>\n",
       "      <td>0.288672</td>\n",
       "      <td>0.005777</td>\n",
       "      <td>0.000000</td>\n",
       "      <td>0.000918</td>\n",
       "      <td>0.000006</td>\n",
       "      <td>0.000000</td>\n",
       "      <td>0.000000</td>\n",
       "    </tr>\n",
       "    <tr>\n",
       "      <th>50%</th>\n",
       "      <td>0.000000</td>\n",
       "      <td>0.000000</td>\n",
       "      <td>0.000000</td>\n",
       "      <td>0.000000</td>\n",
       "      <td>0.000000</td>\n",
       "      <td>0.000000</td>\n",
       "      <td>0.000000</td>\n",
       "      <td>0.000000</td>\n",
       "      <td>0.000000</td>\n",
       "      <td>0.000000</td>\n",
       "      <td>...</td>\n",
       "      <td>0.000000</td>\n",
       "      <td>0.000000</td>\n",
       "      <td>0.556049</td>\n",
       "      <td>0.382116</td>\n",
       "      <td>0.014030</td>\n",
       "      <td>0.000000</td>\n",
       "      <td>0.000918</td>\n",
       "      <td>0.000006</td>\n",
       "      <td>0.000000</td>\n",
       "      <td>0.000000</td>\n",
       "    </tr>\n",
       "    <tr>\n",
       "      <th>75%</th>\n",
       "      <td>0.000000</td>\n",
       "      <td>1.000000</td>\n",
       "      <td>1.000000</td>\n",
       "      <td>1.000000</td>\n",
       "      <td>1.000000</td>\n",
       "      <td>1.000000</td>\n",
       "      <td>0.000000</td>\n",
       "      <td>0.000000</td>\n",
       "      <td>0.000000</td>\n",
       "      <td>0.000000</td>\n",
       "      <td>...</td>\n",
       "      <td>0.006303</td>\n",
       "      <td>0.019978</td>\n",
       "      <td>0.853554</td>\n",
       "      <td>0.449780</td>\n",
       "      <td>0.032728</td>\n",
       "      <td>0.000000</td>\n",
       "      <td>0.000918</td>\n",
       "      <td>0.000006</td>\n",
       "      <td>0.000000</td>\n",
       "      <td>0.000000</td>\n",
       "    </tr>\n",
       "    <tr>\n",
       "      <th>max</th>\n",
       "      <td>1.000000</td>\n",
       "      <td>1.000000</td>\n",
       "      <td>1.000000</td>\n",
       "      <td>1.000000</td>\n",
       "      <td>1.000000</td>\n",
       "      <td>1.000000</td>\n",
       "      <td>1.000000</td>\n",
       "      <td>1.000000</td>\n",
       "      <td>1.000000</td>\n",
       "      <td>1.000000</td>\n",
       "      <td>...</td>\n",
       "      <td>1.000000</td>\n",
       "      <td>1.000000</td>\n",
       "      <td>1.000000</td>\n",
       "      <td>1.000000</td>\n",
       "      <td>1.000000</td>\n",
       "      <td>1.000000</td>\n",
       "      <td>1.000000</td>\n",
       "      <td>1.000000</td>\n",
       "      <td>1.000000</td>\n",
       "      <td>1.000000</td>\n",
       "    </tr>\n",
       "  </tbody>\n",
       "</table>\n",
       "<p>8 rows × 175 columns</p>\n",
       "</div>"
      ],
      "text/plain": [
       "           IsHoliday          Is_M1          Is_M2          Is_M3  \\\n",
       "count  421570.000000  421570.000000  421570.000000  421570.000000   \n",
       "mean        0.070358       0.357428       0.263890       0.325192   \n",
       "std         0.255750       0.479243       0.440741       0.468447   \n",
       "min         0.000000       0.000000       0.000000       0.000000   \n",
       "25%         0.000000       0.000000       0.000000       0.000000   \n",
       "50%         0.000000       0.000000       0.000000       0.000000   \n",
       "75%         0.000000       1.000000       1.000000       1.000000   \n",
       "max         1.000000       1.000000       1.000000       1.000000   \n",
       "\n",
       "               Is_M4          Is_M5     Super_Bowl      Labor_Day  \\\n",
       "count  421570.000000  421570.000000  421570.000000  421570.000000   \n",
       "mean        0.320153       0.359210       0.021100       0.021019   \n",
       "std         0.466536       0.479769       0.143717       0.143448   \n",
       "min         0.000000       0.000000       0.000000       0.000000   \n",
       "25%         0.000000       0.000000       0.000000       0.000000   \n",
       "50%         0.000000       0.000000       0.000000       0.000000   \n",
       "75%         1.000000       1.000000       0.000000       0.000000   \n",
       "max         1.000000       1.000000       1.000000       1.000000   \n",
       "\n",
       "        Thanksgiving      Christmas  ...      MarkDown4      MarkDown5  \\\n",
       "count  421570.000000  421570.000000  ...  421570.000000  421570.000000   \n",
       "mean        0.014135       0.014104  ...       0.016052       0.015322   \n",
       "std         0.118049       0.117922  ...       0.057718       0.038773   \n",
       "min         0.000000       0.000000  ...       0.000000       0.000000   \n",
       "25%         0.000000       0.000000  ...       0.000000       0.000000   \n",
       "50%         0.000000       0.000000  ...       0.000000       0.000000   \n",
       "75%         0.000000       0.000000  ...       0.006303       0.019978   \n",
       "max         1.000000       1.000000  ...       1.000000       1.000000   \n",
       "\n",
       "                 CPI   Unemployment   Median_Sales  Median_MarkDown1  \\\n",
       "count  421570.000000  421570.000000  421570.000000     421570.000000   \n",
       "mean        0.446165       0.391153       0.026337          0.002553   \n",
       "std         0.387069       0.178579       0.033390          0.013149   \n",
       "min         0.000000       0.000000       0.000000          0.000000   \n",
       "25%         0.058898       0.288672       0.005777          0.000000   \n",
       "50%         0.556049       0.382116       0.014030          0.000000   \n",
       "75%         0.853554       0.449780       0.032728          0.000000   \n",
       "max         1.000000       1.000000       1.000000          1.000000   \n",
       "\n",
       "       Median_MarkDown2  Median_MarkDown3  Median_MarkDown4  Median_MarkDown5  \n",
       "count     421570.000000     421570.000000     421570.000000     421570.000000  \n",
       "mean           0.004333          0.002972          0.000549          0.003038  \n",
       "std            0.028914          0.027893          0.007358          0.010739  \n",
       "min            0.000000          0.000000          0.000000          0.000000  \n",
       "25%            0.000918          0.000006          0.000000          0.000000  \n",
       "50%            0.000918          0.000006          0.000000          0.000000  \n",
       "75%            0.000918          0.000006          0.000000          0.000000  \n",
       "max            1.000000          1.000000          1.000000          1.000000  \n",
       "\n",
       "[8 rows x 175 columns]"
      ]
     },
     "execution_count": 31,
     "metadata": {},
     "output_type": "execute_result"
    },
    {
     "name": "stdout",
     "output_type": "stream",
     "text": [
      "Scaled test dataset\n"
     ]
    },
    {
     "data": {
      "text/html": [
       "<div>\n",
       "<style scoped>\n",
       "    .dataframe tbody tr th:only-of-type {\n",
       "        vertical-align: middle;\n",
       "    }\n",
       "\n",
       "    .dataframe tbody tr th {\n",
       "        vertical-align: top;\n",
       "    }\n",
       "\n",
       "    .dataframe thead th {\n",
       "        text-align: right;\n",
       "    }\n",
       "</style>\n",
       "<table border=\"1\" class=\"dataframe\">\n",
       "  <thead>\n",
       "    <tr style=\"text-align: right;\">\n",
       "      <th></th>\n",
       "      <th>IsHoliday</th>\n",
       "      <th>Is_M1</th>\n",
       "      <th>Is_M2</th>\n",
       "      <th>Is_M3</th>\n",
       "      <th>Is_M4</th>\n",
       "      <th>Is_M5</th>\n",
       "      <th>Super_Bowl</th>\n",
       "      <th>Labor_Day</th>\n",
       "      <th>Thanksgiving</th>\n",
       "      <th>Christmas</th>\n",
       "      <th>...</th>\n",
       "      <th>MarkDown4</th>\n",
       "      <th>MarkDown5</th>\n",
       "      <th>CPI</th>\n",
       "      <th>Unemployment</th>\n",
       "      <th>Median_Sales</th>\n",
       "      <th>Median_MarkDown1</th>\n",
       "      <th>Median_MarkDown2</th>\n",
       "      <th>Median_MarkDown3</th>\n",
       "      <th>Median_MarkDown4</th>\n",
       "      <th>Median_MarkDown5</th>\n",
       "    </tr>\n",
       "  </thead>\n",
       "  <tbody>\n",
       "    <tr>\n",
       "      <th>count</th>\n",
       "      <td>115064.000000</td>\n",
       "      <td>115064.000000</td>\n",
       "      <td>115064.000000</td>\n",
       "      <td>115064.000000</td>\n",
       "      <td>115064.000000</td>\n",
       "      <td>115064.0</td>\n",
       "      <td>115064.000000</td>\n",
       "      <td>115064.0</td>\n",
       "      <td>115064.000000</td>\n",
       "      <td>115064.000000</td>\n",
       "      <td>...</td>\n",
       "      <td>115064.000000</td>\n",
       "      <td>115064.000000</td>\n",
       "      <td>115064.000000</td>\n",
       "      <td>115064.000000</td>\n",
       "      <td>115064.000000</td>\n",
       "      <td>115064.000000</td>\n",
       "      <td>115064.000000</td>\n",
       "      <td>115064.000000</td>\n",
       "      <td>115064.000000</td>\n",
       "      <td>115064.000000</td>\n",
       "    </tr>\n",
       "    <tr>\n",
       "      <th>mean</th>\n",
       "      <td>0.077592</td>\n",
       "      <td>0.998705</td>\n",
       "      <td>0.751208</td>\n",
       "      <td>0.914578</td>\n",
       "      <td>0.887993</td>\n",
       "      <td>1.0</td>\n",
       "      <td>0.025760</td>\n",
       "      <td>0.0</td>\n",
       "      <td>0.025864</td>\n",
       "      <td>0.025968</td>\n",
       "      <td>...</td>\n",
       "      <td>0.044169</td>\n",
       "      <td>0.036147</td>\n",
       "      <td>0.505160</td>\n",
       "      <td>0.281483</td>\n",
       "      <td>0.026632</td>\n",
       "      <td>0.117673</td>\n",
       "      <td>0.023535</td>\n",
       "      <td>0.014035</td>\n",
       "      <td>0.043117</td>\n",
       "      <td>0.048896</td>\n",
       "    </tr>\n",
       "    <tr>\n",
       "      <th>std</th>\n",
       "      <td>0.267529</td>\n",
       "      <td>0.035962</td>\n",
       "      <td>0.432315</td>\n",
       "      <td>0.279510</td>\n",
       "      <td>0.315377</td>\n",
       "      <td>0.0</td>\n",
       "      <td>0.158418</td>\n",
       "      <td>0.0</td>\n",
       "      <td>0.158730</td>\n",
       "      <td>0.159041</td>\n",
       "      <td>...</td>\n",
       "      <td>0.106885</td>\n",
       "      <td>0.179186</td>\n",
       "      <td>0.408133</td>\n",
       "      <td>0.151380</td>\n",
       "      <td>0.034060</td>\n",
       "      <td>0.163141</td>\n",
       "      <td>0.055258</td>\n",
       "      <td>0.092947</td>\n",
       "      <td>0.110655</td>\n",
       "      <td>0.042610</td>\n",
       "    </tr>\n",
       "    <tr>\n",
       "      <th>min</th>\n",
       "      <td>0.000000</td>\n",
       "      <td>0.000000</td>\n",
       "      <td>0.000000</td>\n",
       "      <td>0.000000</td>\n",
       "      <td>0.000000</td>\n",
       "      <td>1.0</td>\n",
       "      <td>0.000000</td>\n",
       "      <td>0.0</td>\n",
       "      <td>0.000000</td>\n",
       "      <td>0.000000</td>\n",
       "      <td>...</td>\n",
       "      <td>0.000000</td>\n",
       "      <td>-0.001706</td>\n",
       "      <td>0.051125</td>\n",
       "      <td>-0.018689</td>\n",
       "      <td>0.001886</td>\n",
       "      <td>-0.013104</td>\n",
       "      <td>0.000576</td>\n",
       "      <td>-0.000626</td>\n",
       "      <td>0.000000</td>\n",
       "      <td>-0.002939</td>\n",
       "    </tr>\n",
       "    <tr>\n",
       "      <th>25%</th>\n",
       "      <td>0.000000</td>\n",
       "      <td>1.000000</td>\n",
       "      <td>1.000000</td>\n",
       "      <td>1.000000</td>\n",
       "      <td>1.000000</td>\n",
       "      <td>1.0</td>\n",
       "      <td>0.000000</td>\n",
       "      <td>0.0</td>\n",
       "      <td>0.000000</td>\n",
       "      <td>0.000000</td>\n",
       "      <td>...</td>\n",
       "      <td>0.001043</td>\n",
       "      <td>0.012065</td>\n",
       "      <td>0.122179</td>\n",
       "      <td>0.168679</td>\n",
       "      <td>0.005929</td>\n",
       "      <td>0.045050</td>\n",
       "      <td>0.000918</td>\n",
       "      <td>0.000106</td>\n",
       "      <td>0.003379</td>\n",
       "      <td>0.023255</td>\n",
       "    </tr>\n",
       "    <tr>\n",
       "      <th>50%</th>\n",
       "      <td>0.000000</td>\n",
       "      <td>1.000000</td>\n",
       "      <td>1.000000</td>\n",
       "      <td>1.000000</td>\n",
       "      <td>1.000000</td>\n",
       "      <td>1.0</td>\n",
       "      <td>0.000000</td>\n",
       "      <td>0.0</td>\n",
       "      <td>0.000000</td>\n",
       "      <td>0.000000</td>\n",
       "      <td>...</td>\n",
       "      <td>0.008901</td>\n",
       "      <td>0.022028</td>\n",
       "      <td>0.655286</td>\n",
       "      <td>0.279088</td>\n",
       "      <td>0.014236</td>\n",
       "      <td>0.085291</td>\n",
       "      <td>0.004817</td>\n",
       "      <td>0.000492</td>\n",
       "      <td>0.014490</td>\n",
       "      <td>0.039716</td>\n",
       "    </tr>\n",
       "    <tr>\n",
       "      <th>75%</th>\n",
       "      <td>0.000000</td>\n",
       "      <td>1.000000</td>\n",
       "      <td>1.000000</td>\n",
       "      <td>1.000000</td>\n",
       "      <td>1.000000</td>\n",
       "      <td>1.0</td>\n",
       "      <td>0.000000</td>\n",
       "      <td>0.0</td>\n",
       "      <td>0.000000</td>\n",
       "      <td>0.000000</td>\n",
       "      <td>...</td>\n",
       "      <td>0.038946</td>\n",
       "      <td>0.038954</td>\n",
       "      <td>0.964200</td>\n",
       "      <td>0.394192</td>\n",
       "      <td>0.032948</td>\n",
       "      <td>0.139684</td>\n",
       "      <td>0.018823</td>\n",
       "      <td>0.001041</td>\n",
       "      <td>0.037901</td>\n",
       "      <td>0.060041</td>\n",
       "    </tr>\n",
       "    <tr>\n",
       "      <th>max</th>\n",
       "      <td>1.000000</td>\n",
       "      <td>1.000000</td>\n",
       "      <td>1.000000</td>\n",
       "      <td>1.000000</td>\n",
       "      <td>1.000000</td>\n",
       "      <td>1.0</td>\n",
       "      <td>1.000000</td>\n",
       "      <td>0.0</td>\n",
       "      <td>1.000000</td>\n",
       "      <td>1.000000</td>\n",
       "      <td>...</td>\n",
       "      <td>0.968430</td>\n",
       "      <td>7.108858</td>\n",
       "      <td>1.017235</td>\n",
       "      <td>0.605712</td>\n",
       "      <td>1.000000</td>\n",
       "      <td>1.751019</td>\n",
       "      <td>0.680302</td>\n",
       "      <td>1.055445</td>\n",
       "      <td>1.219026</td>\n",
       "      <td>0.687817</td>\n",
       "    </tr>\n",
       "  </tbody>\n",
       "</table>\n",
       "<p>8 rows × 175 columns</p>\n",
       "</div>"
      ],
      "text/plain": [
       "           IsHoliday          Is_M1          Is_M2          Is_M3  \\\n",
       "count  115064.000000  115064.000000  115064.000000  115064.000000   \n",
       "mean        0.077592       0.998705       0.751208       0.914578   \n",
       "std         0.267529       0.035962       0.432315       0.279510   \n",
       "min         0.000000       0.000000       0.000000       0.000000   \n",
       "25%         0.000000       1.000000       1.000000       1.000000   \n",
       "50%         0.000000       1.000000       1.000000       1.000000   \n",
       "75%         0.000000       1.000000       1.000000       1.000000   \n",
       "max         1.000000       1.000000       1.000000       1.000000   \n",
       "\n",
       "               Is_M4     Is_M5     Super_Bowl  Labor_Day   Thanksgiving  \\\n",
       "count  115064.000000  115064.0  115064.000000   115064.0  115064.000000   \n",
       "mean        0.887993       1.0       0.025760        0.0       0.025864   \n",
       "std         0.315377       0.0       0.158418        0.0       0.158730   \n",
       "min         0.000000       1.0       0.000000        0.0       0.000000   \n",
       "25%         1.000000       1.0       0.000000        0.0       0.000000   \n",
       "50%         1.000000       1.0       0.000000        0.0       0.000000   \n",
       "75%         1.000000       1.0       0.000000        0.0       0.000000   \n",
       "max         1.000000       1.0       1.000000        0.0       1.000000   \n",
       "\n",
       "           Christmas  ...      MarkDown4      MarkDown5            CPI  \\\n",
       "count  115064.000000  ...  115064.000000  115064.000000  115064.000000   \n",
       "mean        0.025968  ...       0.044169       0.036147       0.505160   \n",
       "std         0.159041  ...       0.106885       0.179186       0.408133   \n",
       "min         0.000000  ...       0.000000      -0.001706       0.051125   \n",
       "25%         0.000000  ...       0.001043       0.012065       0.122179   \n",
       "50%         0.000000  ...       0.008901       0.022028       0.655286   \n",
       "75%         0.000000  ...       0.038946       0.038954       0.964200   \n",
       "max         1.000000  ...       0.968430       7.108858       1.017235   \n",
       "\n",
       "        Unemployment   Median_Sales  Median_MarkDown1  Median_MarkDown2  \\\n",
       "count  115064.000000  115064.000000     115064.000000     115064.000000   \n",
       "mean        0.281483       0.026632          0.117673          0.023535   \n",
       "std         0.151380       0.034060          0.163141          0.055258   \n",
       "min        -0.018689       0.001886         -0.013104          0.000576   \n",
       "25%         0.168679       0.005929          0.045050          0.000918   \n",
       "50%         0.279088       0.014236          0.085291          0.004817   \n",
       "75%         0.394192       0.032948          0.139684          0.018823   \n",
       "max         0.605712       1.000000          1.751019          0.680302   \n",
       "\n",
       "       Median_MarkDown3  Median_MarkDown4  Median_MarkDown5  \n",
       "count     115064.000000     115064.000000     115064.000000  \n",
       "mean           0.014035          0.043117          0.048896  \n",
       "std            0.092947          0.110655          0.042610  \n",
       "min           -0.000626          0.000000         -0.002939  \n",
       "25%            0.000106          0.003379          0.023255  \n",
       "50%            0.000492          0.014490          0.039716  \n",
       "75%            0.001041          0.037901          0.060041  \n",
       "max            1.055445          1.219026          0.687817  \n",
       "\n",
       "[8 rows x 175 columns]"
      ]
     },
     "execution_count": 31,
     "metadata": {},
     "output_type": "execute_result"
    },
    {
     "data": {
      "text/html": [
       "<div>\n",
       "<style scoped>\n",
       "    .dataframe tbody tr th:only-of-type {\n",
       "        vertical-align: middle;\n",
       "    }\n",
       "\n",
       "    .dataframe tbody tr th {\n",
       "        vertical-align: top;\n",
       "    }\n",
       "\n",
       "    .dataframe thead th {\n",
       "        text-align: right;\n",
       "    }\n",
       "</style>\n",
       "<table border=\"1\" class=\"dataframe\">\n",
       "  <thead>\n",
       "    <tr style=\"text-align: right;\">\n",
       "      <th></th>\n",
       "      <th>IsHoliday</th>\n",
       "      <th>Is_M1</th>\n",
       "      <th>Is_M2</th>\n",
       "      <th>Is_M3</th>\n",
       "      <th>Is_M4</th>\n",
       "      <th>Is_M5</th>\n",
       "      <th>Super_Bowl</th>\n",
       "      <th>Labor_Day</th>\n",
       "      <th>Thanksgiving</th>\n",
       "      <th>Christmas</th>\n",
       "      <th>...</th>\n",
       "      <th>MarkDown4</th>\n",
       "      <th>MarkDown5</th>\n",
       "      <th>CPI</th>\n",
       "      <th>Unemployment</th>\n",
       "      <th>Median_Sales</th>\n",
       "      <th>Median_MarkDown1</th>\n",
       "      <th>Median_MarkDown2</th>\n",
       "      <th>Median_MarkDown3</th>\n",
       "      <th>Median_MarkDown4</th>\n",
       "      <th>Median_MarkDown5</th>\n",
       "    </tr>\n",
       "    <tr>\n",
       "      <th>Date</th>\n",
       "      <th></th>\n",
       "      <th></th>\n",
       "      <th></th>\n",
       "      <th></th>\n",
       "      <th></th>\n",
       "      <th></th>\n",
       "      <th></th>\n",
       "      <th></th>\n",
       "      <th></th>\n",
       "      <th></th>\n",
       "      <th></th>\n",
       "      <th></th>\n",
       "      <th></th>\n",
       "      <th></th>\n",
       "      <th></th>\n",
       "      <th></th>\n",
       "      <th></th>\n",
       "      <th></th>\n",
       "      <th></th>\n",
       "      <th></th>\n",
       "      <th></th>\n",
       "    </tr>\n",
       "  </thead>\n",
       "  <tbody>\n",
       "    <tr>\n",
       "      <th>2010-02-05</th>\n",
       "      <td>0</td>\n",
       "      <td>0</td>\n",
       "      <td>0</td>\n",
       "      <td>0</td>\n",
       "      <td>0</td>\n",
       "      <td>0</td>\n",
       "      <td>0</td>\n",
       "      <td>0</td>\n",
       "      <td>0</td>\n",
       "      <td>0</td>\n",
       "      <td>...</td>\n",
       "      <td>0.0</td>\n",
       "      <td>0.0</td>\n",
       "      <td>0.840500</td>\n",
       "      <td>0.405118</td>\n",
       "      <td>0.038054</td>\n",
       "      <td>0.0</td>\n",
       "      <td>0.000918</td>\n",
       "      <td>0.000006</td>\n",
       "      <td>0.0</td>\n",
       "      <td>0.0</td>\n",
       "    </tr>\n",
       "    <tr>\n",
       "      <th>2010-02-12</th>\n",
       "      <td>1</td>\n",
       "      <td>0</td>\n",
       "      <td>0</td>\n",
       "      <td>0</td>\n",
       "      <td>0</td>\n",
       "      <td>0</td>\n",
       "      <td>1</td>\n",
       "      <td>0</td>\n",
       "      <td>0</td>\n",
       "      <td>0</td>\n",
       "      <td>...</td>\n",
       "      <td>0.0</td>\n",
       "      <td>0.0</td>\n",
       "      <td>0.841941</td>\n",
       "      <td>0.405118</td>\n",
       "      <td>0.059713</td>\n",
       "      <td>0.0</td>\n",
       "      <td>0.000918</td>\n",
       "      <td>0.000006</td>\n",
       "      <td>0.0</td>\n",
       "      <td>0.0</td>\n",
       "    </tr>\n",
       "  </tbody>\n",
       "</table>\n",
       "<p>2 rows × 175 columns</p>\n",
       "</div>"
      ],
      "text/plain": [
       "            IsHoliday  Is_M1  Is_M2  Is_M3  Is_M4  Is_M5  Super_Bowl  \\\n",
       "Date                                                                   \n",
       "2010-02-05          0      0      0      0      0      0           0   \n",
       "2010-02-12          1      0      0      0      0      0           1   \n",
       "\n",
       "            Labor_Day  Thanksgiving  Christmas  ...  MarkDown4  MarkDown5  \\\n",
       "Date                                            ...                         \n",
       "2010-02-05          0             0          0  ...        0.0        0.0   \n",
       "2010-02-12          0             0          0  ...        0.0        0.0   \n",
       "\n",
       "                 CPI  Unemployment  Median_Sales  Median_MarkDown1  \\\n",
       "Date                                                                 \n",
       "2010-02-05  0.840500      0.405118      0.038054               0.0   \n",
       "2010-02-12  0.841941      0.405118      0.059713               0.0   \n",
       "\n",
       "            Median_MarkDown2  Median_MarkDown3  Median_MarkDown4  \\\n",
       "Date                                                               \n",
       "2010-02-05          0.000918          0.000006               0.0   \n",
       "2010-02-12          0.000918          0.000006               0.0   \n",
       "\n",
       "            Median_MarkDown5  \n",
       "Date                          \n",
       "2010-02-05               0.0  \n",
       "2010-02-12               0.0  \n",
       "\n",
       "[2 rows x 175 columns]"
      ]
     },
     "execution_count": 31,
     "metadata": {},
     "output_type": "execute_result"
    }
   ],
   "source": [
    "#Feature scaling of numeric columns (excluding 'uint8')\n",
    "\n",
    "to_scale = ['Size',\n",
    " 'Temperature',\n",
    " 'Fuel_Price',\n",
    " 'MarkDown1',\n",
    " 'MarkDown2',\n",
    " 'MarkDown3',\n",
    " 'MarkDown4',\n",
    " 'MarkDown5',\n",
    " 'CPI',\n",
    " 'Unemployment',\n",
    " 'Median_Sales',\n",
    " 'Median_MarkDown1',\n",
    " 'Median_MarkDown2',\n",
    " 'Median_MarkDown3',\n",
    " 'Median_MarkDown4',\n",
    " 'Median_MarkDown5']\n",
    "\n",
    "\n",
    "# Creating various temporary dataframes for extracting numeric columns, balance columns and merging\n",
    "\n",
    "temporary1 = X_train[to_scale]\n",
    "temporary2 = X_test[to_scale]\n",
    "\n",
    "from sklearn.preprocessing import MinMaxScaler\n",
    "scaler = MinMaxScaler()\n",
    "\n",
    "# create data frame of numeric columns after scaling\n",
    "A = scaler.fit_transform(temporary1)\n",
    "B = scaler.transform(temporary2)\n",
    "A_df = pd.DataFrame(A, columns = to_scale)\n",
    "B_df = pd.DataFrame(B, columns = to_scale)\n",
    "\n",
    "# merge with balance of the original dataframe\n",
    "A1_df = X_train.drop(to_scale, axis =1)\n",
    "B1_df = X_test.drop(to_scale, axis =1)\n",
    "# A1_df.head()\n",
    "\n",
    "X_train = pd.concat([A1_df, A_df], axis =1)\n",
    "X_test = pd.concat([B1_df, B_df], axis =1)\n",
    "\n",
    "X_train.set_index('Date', inplace = True, drop = True)\n",
    "X_test.set_index('Date', inplace = True, drop = True)\n",
    "\n",
    "print('Scaled train dataset')\n",
    "X_train.describe()\n",
    "print('Scaled test dataset')\n",
    "X_test.describe()\n",
    "X_train.head(2)"
   ]
  },
  {
   "cell_type": "markdown",
   "metadata": {},
   "source": [
    "## <span style=\"color:blue\"><u>8. Train a Random Forest Regressor </u></span>"
   ]
  },
  {
   "cell_type": "markdown",
   "metadata": {},
   "source": [
    "### 8.1 Note on performance metric used\n",
    "In sklearn, RandomForrest Regressor 'criterion' is The function to measure the quality of a split.\n",
    "It's a performance measure (by default, MSE) which helps the algorithm to decide on a rule for an optimum split on a node \n",
    "in a tree.\n",
    "\n",
    "Kaggle competition rule gave us a metric 'mean absolute error' to evaluate the performance of our model i.e. the results would be judged basis mae between y_true and y_predicted. So using 'mse' criterion in random forest is absolutely fine.\n",
    "\n",
    "While both MAE/ MSE are performance measures, they are being used at two different stages of a modeling process. "
   ]
  },
  {
   "cell_type": "markdown",
   "metadata": {},
   "source": [
    "### 8.2 Cross Validation with Random Forest of 100 trees"
   ]
  },
  {
   "cell_type": "code",
   "execution_count": 32,
   "metadata": {},
   "outputs": [],
   "source": [
    "# # Run cross validation with 100 trees\n",
    "\n",
    "# X = X_train.values\n",
    "# y = y_train\n",
    "# X.shape, y.shape\n",
    "\n",
    "# from sklearn import model_selection\n",
    "# from sklearn.metrics import mean_squared_error, mean_absolute_error\n",
    "# from sklearn.ensemble import RandomForestRegressor\n",
    "# from sklearn.model_selection import cross_val_score\n",
    "\n",
    "# rfr = RandomForestRegressor(criterion= 'mse', n_estimators=100, max_depth =None, verbose=2, n_jobs=-3, min_samples_split=2, min_samples_leaf=1)\n",
    "\n",
    "# scores = cross_val_score(rfr, X, y, cv=5, scoring = 'neg_mean_absolute_error')    \n",
    "\n",
    "# print(f\"Cross-validation scores:{scores}\")\n",
    "# print(f\"Mean is {scores.mean()} and std is {scores.std()}.\")"
   ]
  },
  {
   "cell_type": "markdown",
   "metadata": {},
   "source": [
    "### 8.3 Running final round with test validation split of 80:20\n",
    "(This is after trying performance with 50 & 500 trees also, 100 tree seem to be optimum balance between performance and speed)"
   ]
  },
  {
   "cell_type": "code",
   "execution_count": 33,
   "metadata": {},
   "outputs": [
    {
     "name": "stdout",
     "output_type": "stream",
     "text": [
      "train/val split of training data is Train:((337256, 175), (337256,)) and Validation:((84314, 175), (84314,))\n"
     ]
    },
    {
     "name": "stderr",
     "output_type": "stream",
     "text": [
      "[Parallel(n_jobs=-3)]: Using backend ThreadingBackend with 10 concurrent workers.\n",
      "[Parallel(n_jobs=-3)]: Done  30 tasks      | elapsed:  1.4min\n",
      "[Parallel(n_jobs=-3)]: Done 100 out of 100 | elapsed:  4.6min finished\n"
     ]
    },
    {
     "data": {
      "text/plain": [
       "RandomForestRegressor(bootstrap=True, criterion='mse', max_depth=None,\n",
       "                      max_features='auto', max_leaf_nodes=None,\n",
       "                      min_impurity_decrease=0.0, min_impurity_split=None,\n",
       "                      min_samples_leaf=1, min_samples_split=2,\n",
       "                      min_weight_fraction_leaf=0.0, n_estimators=100, n_jobs=-3,\n",
       "                      oob_score=False, random_state=0, verbose=1,\n",
       "                      warm_start=False)"
      ]
     },
     "execution_count": 33,
     "metadata": {},
     "output_type": "execute_result"
    },
    {
     "name": "stderr",
     "output_type": "stream",
     "text": [
      "[Parallel(n_jobs=10)]: Using backend ThreadingBackend with 10 concurrent workers.\n",
      "[Parallel(n_jobs=10)]: Done  30 tasks      | elapsed:    0.2s\n"
     ]
    },
    {
     "name": "stdout",
     "output_type": "stream",
     "text": [
      "Mean Absolute Error on validation data is 1408.5535211518848\n"
     ]
    },
    {
     "name": "stderr",
     "output_type": "stream",
     "text": [
      "[Parallel(n_jobs=10)]: Done 100 out of 100 | elapsed:    0.9s finished\n"
     ]
    }
   ],
   "source": [
    "# Using our entire training data to learn and predict\n",
    "from sklearn import model_selection\n",
    "from sklearn.metrics import mean_squared_error, mean_absolute_error\n",
    "from sklearn.ensemble import RandomForestRegressor\n",
    "from sklearn.model_selection import train_test_split\n",
    "\n",
    "Xtrain, Xval, ytrain, yval = train_test_split(X_train, y_train, test_size=0.20)\n",
    "print(f'train/val split of training data is Train:{Xtrain.shape,ytrain.shape} and Validation:{Xval.shape, yval.shape}')\n",
    "\n",
    "Xtest = X_test.values\n",
    "\n",
    "\n",
    "rfr = RandomForestRegressor(criterion= 'mse', \n",
    "                            n_estimators=100, \n",
    "                            max_depth =None, \n",
    "                            verbose=1, \n",
    "                            n_jobs=-3, \n",
    "                            min_samples_split=2, \n",
    "                            min_samples_leaf=1,\n",
    "                            random_state  = 0)\n",
    "\n",
    "rfr.fit(Xtrain, ytrain)\n",
    "\n",
    "MAE_validation  = mean_absolute_error(yval, rfr.predict(Xval))\n",
    "print(f'Mean Absolute Error on validation data is {MAE_validation}')"
   ]
  },
  {
   "cell_type": "markdown",
   "metadata": {},
   "source": [
    "#### Mean Absolute Error with predictions on validation sample is 1376"
   ]
  },
  {
   "cell_type": "markdown",
   "metadata": {},
   "source": [
    "### 8.4 saving the model - file size 2.5 GB!!"
   ]
  },
  {
   "cell_type": "code",
   "execution_count": 34,
   "metadata": {},
   "outputs": [],
   "source": [
    "# from sklearn.externals import joblib\n",
    "\n",
    "# # save the model to local machine\n",
    "# filename = 'output_data/RandomForest_100.sav'\n",
    "# joblib.dump(rfr, filename)\n",
    " \n",
    "# # load the model from disk\n",
    "# rfr = joblib.load(filename)"
   ]
  },
  {
   "cell_type": "markdown",
   "metadata": {},
   "source": [
    "### 8.5 Run prediction on our test data and save results"
   ]
  },
  {
   "cell_type": "code",
   "execution_count": 35,
   "metadata": {},
   "outputs": [
    {
     "name": "stderr",
     "output_type": "stream",
     "text": [
      "[Parallel(n_jobs=10)]: Using backend ThreadingBackend with 10 concurrent workers.\n",
      "[Parallel(n_jobs=10)]: Done  30 tasks      | elapsed:    0.1s\n",
      "[Parallel(n_jobs=10)]: Done 100 out of 100 | elapsed:    0.5s finished\n"
     ]
    },
    {
     "name": "stdout",
     "output_type": "stream",
     "text": [
      "Saving Predictions on test dataset as \"predicted.csv\"\n"
     ]
    }
   ],
   "source": [
    "# Predictions on Test dataset\n",
    "yhat = rfr.predict(Xtest)\n",
    "\n",
    "print('Saving Predictions on test dataset as \"predicted.csv\"')\n",
    "results = pd.DataFrame(yhat.reshape(-1,1), columns = ['Weekly_Sales'])\n",
    "\n",
    "results.to_csv(\"output_data/y_predicted.csv\")"
   ]
  },
  {
   "cell_type": "code",
   "execution_count": 36,
   "metadata": {},
   "outputs": [
    {
     "data": {
      "text/html": [
       "<div>\n",
       "<style scoped>\n",
       "    .dataframe tbody tr th:only-of-type {\n",
       "        vertical-align: middle;\n",
       "    }\n",
       "\n",
       "    .dataframe tbody tr th {\n",
       "        vertical-align: top;\n",
       "    }\n",
       "\n",
       "    .dataframe thead th {\n",
       "        text-align: right;\n",
       "    }\n",
       "</style>\n",
       "<table border=\"1\" class=\"dataframe\">\n",
       "  <thead>\n",
       "    <tr style=\"text-align: right;\">\n",
       "      <th></th>\n",
       "      <th>Weekly_Sales</th>\n",
       "    </tr>\n",
       "  </thead>\n",
       "  <tbody>\n",
       "    <tr>\n",
       "      <th>0</th>\n",
       "      <td>25391.4636</td>\n",
       "    </tr>\n",
       "    <tr>\n",
       "      <th>1</th>\n",
       "      <td>21819.6593</td>\n",
       "    </tr>\n",
       "    <tr>\n",
       "      <th>2</th>\n",
       "      <td>24260.6294</td>\n",
       "    </tr>\n",
       "    <tr>\n",
       "      <th>3</th>\n",
       "      <td>24811.8381</td>\n",
       "    </tr>\n",
       "    <tr>\n",
       "      <th>4</th>\n",
       "      <td>21756.5383</td>\n",
       "    </tr>\n",
       "  </tbody>\n",
       "</table>\n",
       "</div>"
      ],
      "text/plain": [
       "   Weekly_Sales\n",
       "0    25391.4636\n",
       "1    21819.6593\n",
       "2    24260.6294\n",
       "3    24811.8381\n",
       "4    21756.5383"
      ]
     },
     "execution_count": 36,
     "metadata": {},
     "output_type": "execute_result"
    }
   ],
   "source": [
    "results.head()"
   ]
  },
  {
   "cell_type": "code",
   "execution_count": 37,
   "metadata": {},
   "outputs": [
    {
     "name": "stdout",
     "output_type": "stream",
     "text": [
      "merged predicted weekly sales to test data file\n"
     ]
    },
    {
     "data": {
      "text/plain": [
       "((421570, 5), (115064, 5))"
      ]
     },
     "execution_count": 37,
     "metadata": {},
     "output_type": "execute_result"
    },
    {
     "name": "stdout",
     "output_type": "stream",
     "text": [
      "[ True  True  True  True  True]\n"
     ]
    },
    {
     "data": {
      "text/plain": [
       "((421570, 177), (115064, 176))"
      ]
     },
     "execution_count": 37,
     "metadata": {},
     "output_type": "execute_result"
    }
   ],
   "source": [
    "#Merge results into test data file\n",
    "test = pd.read_csv(\"dataset/original/test.csv\")\n",
    "train = pd.read_csv(\"dataset/original/train.csv\")\n",
    "test = pd.concat([test, results], axis =1)\n",
    "test= test[train.columns.tolist()]\n",
    "print('merged predicted weekly sales to test data file')\n",
    "train.shape, test.shape\n",
    "\n",
    "#Merge to a common file having Sales data both train and test dataset(predicted one for test dataset)\n",
    "print(test.columns == train.columns)\n",
    "train_test_sales = pd.concat([train, test], axis =0)\n",
    "train_test_sales.to_csv(\"output_data/train_test_sales.csv\")\n",
    "\n",
    "\n",
    "# Saving unscaled files used for machine learning \n",
    "df_train.to_csv(\"output_data/raw_train(final).csv\")\n",
    "df_test.to_csv(\"output_data/raw_test(final).csv\")\n",
    "df_train.shape, df_test.shape"
   ]
  },
  {
   "cell_type": "markdown",
   "metadata": {},
   "source": [
    "## <span style=\"color:blue\"><u>9. Plot a simple matplotlib chart </u></span>\n",
    "To check if seasonal/annual trending of sales are visible in predicated sales."
   ]
  },
  {
   "cell_type": "code",
   "execution_count": 38,
   "metadata": {},
   "outputs": [],
   "source": [
    "#Group the sales data by weeks \n",
    "group = train_test_sales.groupby('Date').mean().reset_index()\n",
    "group.set_index('Date', inplace = True, drop = True)\n",
    "y_chart = group.Weekly_Sales.tolist()\n",
    "x_chart = group.index.tolist()\n"
   ]
  },
  {
   "cell_type": "markdown",
   "metadata": {},
   "source": [
    "#### plot a line chart using indexes (dates) and sale values (train & test data put together)"
   ]
  },
  {
   "cell_type": "code",
   "execution_count": 40,
   "metadata": {},
   "outputs": [
    {
     "data": {
      "text/plain": [
       "(182, 182)"
      ]
     },
     "execution_count": 40,
     "metadata": {},
     "output_type": "execute_result"
    },
    {
     "data": {
      "text/plain": [
       "[<matplotlib.lines.Line2D at 0x261dc798ac8>]"
      ]
     },
     "execution_count": 40,
     "metadata": {},
     "output_type": "execute_result"
    },
    {
     "data": {
      "text/plain": [
       "<matplotlib.legend.Legend at 0x261dc7abf28>"
      ]
     },
     "execution_count": 40,
     "metadata": {},
     "output_type": "execute_result"
    },
    {
     "data": {
      "text/plain": [
       "[<matplotlib.axis.XTick at 0x261dc809630>,\n",
       " <matplotlib.axis.XTick at 0x261dc797908>,\n",
       " <matplotlib.axis.XTick at 0x261dc797ba8>,\n",
       " <matplotlib.axis.XTick at 0x261dc792438>,\n",
       " <matplotlib.axis.XTick at 0x261dc7928d0>,\n",
       " <matplotlib.axis.XTick at 0x261dc791a20>,\n",
       " <matplotlib.axis.XTick at 0x261dc791518>,\n",
       " <matplotlib.axis.XTick at 0x261dc791198>,\n",
       " <matplotlib.axis.XTick at 0x261dc7918d0>,\n",
       " <matplotlib.axis.XTick at 0x261dc792240>,\n",
       " <matplotlib.axis.XTick at 0x261dc7908d0>,\n",
       " <matplotlib.axis.XTick at 0x261dc7903c8>,\n",
       " <matplotlib.axis.XTick at 0x261dc790588>,\n",
       " <matplotlib.axis.XTick at 0x261dc78f9b0>,\n",
       " <matplotlib.axis.XTick at 0x261dc78f4a8>,\n",
       " <matplotlib.axis.XTick at 0x261dc78fb70>,\n",
       " <matplotlib.axis.XTick at 0x261dc78ea90>,\n",
       " <matplotlib.axis.XTick at 0x261dc78f278>,\n",
       " <matplotlib.axis.XTick at 0x261dc790b70>,\n",
       " <matplotlib.axis.XTick at 0x261dc78eb70>,\n",
       " <matplotlib.axis.XTick at 0x261dc78e278>,\n",
       " <matplotlib.axis.XTick at 0x261dc78dd30>,\n",
       " <matplotlib.axis.XTick at 0x261dc78d860>,\n",
       " <matplotlib.axis.XTick at 0x261dc78d358>,\n",
       " <matplotlib.axis.XTick at 0x261dc78ce10>,\n",
       " <matplotlib.axis.XTick at 0x261dc78c940>,\n",
       " <matplotlib.axis.XTick at 0x261dc78c470>,\n",
       " <matplotlib.axis.XTick at 0x261dc78de48>,\n",
       " <matplotlib.axis.XTick at 0x261dc7902e8>,\n",
       " <matplotlib.axis.XTick at 0x261dc78c198>,\n",
       " <matplotlib.axis.XTick at 0x261dc78bcc0>,\n",
       " <matplotlib.axis.XTick at 0x261dc78b7f0>,\n",
       " <matplotlib.axis.XTick at 0x261dc78b320>,\n",
       " <matplotlib.axis.XTick at 0x261dc78ada0>,\n",
       " <matplotlib.axis.XTick at 0x261dc78a908>,\n",
       " <matplotlib.axis.XTick at 0x261dc78a400>,\n",
       " <matplotlib.axis.XTick at 0x261dc78a5c0>]"
      ]
     },
     "execution_count": 40,
     "metadata": {},
     "output_type": "execute_result"
    },
    {
     "data": {
      "text/plain": [
       "<matplotlib.lines.Line2D at 0x261dc792f60>"
      ]
     },
     "execution_count": 40,
     "metadata": {},
     "output_type": "execute_result"
    },
    {
     "data": {
      "text/plain": [
       "Text(0.5, 0.95, 'Actual Sales')"
      ]
     },
     "execution_count": 40,
     "metadata": {},
     "output_type": "execute_result"
    },
    {
     "data": {
      "text/plain": [
       "Text(0.9, 0.95, 'Predicted Sales')"
      ]
     },
     "execution_count": 40,
     "metadata": {},
     "output_type": "execute_result"
    },
    {
     "data": {
      "text/plain": [
       "<function matplotlib.pyplot.show(*args, **kw)>"
      ]
     },
     "execution_count": 40,
     "metadata": {},
     "output_type": "execute_result"
    },
    {
     "data": {
      "image/png": "[encoded data removed]",
      "text/plain": [
       "<Figure size 1152x504 with 1 Axes>"
      ]
     },
     "metadata": {},
     "output_type": "display_data"
    }
   ],
   "source": [
    "len(y_chart), len(x_chart)\n",
    "fig3, ax3 = plt.subplots(figsize = (16,7))\n",
    "ax3.plot(x_chart, y_chart, label = 'Walmart Stores-Weekly Sales', linewidth =3)\n",
    "ax3.legend(loc = 'upper left', fontsize =14)\n",
    "ax3.set_xticks(ax3.get_xticks()[::5])\n",
    "ax3.tick_params(axis='x', rotation=90)\n",
    "ax3.grid()\n",
    "plt.axvline(x=143, color = 'red', linestyle ='--', label = 'Test Data' )\n",
    "ax3.text(0.5, 0.95,'Actual Sales', horizontalalignment='center', verticalalignment='center', transform = ax3.transAxes, \n",
    "         bbox=dict(facecolor='red', alpha=0.5), fontsize =14)\n",
    "ax3.text(0.9, 0.95,'Predicted Sales', horizontalalignment='center', verticalalignment='center', transform = ax3.transAxes, \n",
    "         bbox=dict(facecolor='red', alpha=0.5), fontsize =14)\n",
    "\n",
    "fig3.savefig('output_data/Walmart_sales')\n",
    "plt.show"
   ]
  },
  {
   "cell_type": "markdown",
   "metadata": {},
   "source": [
    "### <span style=\"color:red\">So our predicted sales are showing a similar trending as in case of sales data</span>\n",
    "### <span style=\"color:red\">The mean absolute error for these predictions is 3335 as checked by kaggle submission</span>"
   ]
  },
  {
   "cell_type": "markdown",
   "metadata": {},
   "source": [
    "## <span style=\"color:blue\">10. Saving Data Files</span>"
   ]
  },
  {
   "cell_type": "code",
   "execution_count": null,
   "metadata": {},
   "outputs": [],
   "source": [
    "train_dept = pd.read_csv(\"output_data/train1.csv\")\n",
    "test_dept = pd.read_csv(\"output_data/test1.csv\")\n",
    "dept = pd.read_csv(\"dataset/department_names.csv\")"
   ]
  },
  {
   "cell_type": "code",
   "execution_count": null,
   "metadata": {},
   "outputs": [],
   "source": [
    "train_dept = pd.merge(train_dept, dept, how = 'left', on='Dept')\n",
    "test_dept = pd.merge(test_dept, dept, how = 'left', on='Dept')\n"
   ]
  },
  {
   "cell_type": "code",
   "execution_count": null,
   "metadata": {},
   "outputs": [],
   "source": [
    "train_dept.columns, test_dept.columns\n",
    "keep = ['Weekly_Sales', 'Store', 'Dept', 'Dept_Name', 'Date', 'IsHoliday',\n",
    "        'Type', 'Size', 'Temperature', 'Fuel_Price', 'MarkDown1', 'MarkDown2',\n",
    "        'MarkDown3', 'MarkDown4', 'MarkDown5', 'CPI', 'Unemployment', 'Month',\n",
    "        'Median_Sales', 'Labor_Day', 'Christmas', 'Thanksgiving', 'Super_Bowl',\n",
    "        'Before_Labor_Day', 'Before_Christmas', 'Before_Thanksgiving',\n",
    "        'Before_Super_Bowl', 'After_Labor_Day', 'After_Christmas',\n",
    "        'After_Thanksgiving', 'After_Super_Bowl']\n",
    "train_dept=train_dept[keep]\n",
    "test_dept=test_dept[keep]"
   ]
  },
  {
   "cell_type": "code",
   "execution_count": null,
   "metadata": {},
   "outputs": [],
   "source": [
    "train_dept.head(2)\n",
    "test_dept.head(2)"
   ]
  },
  {
   "cell_type": "code",
   "execution_count": null,
   "metadata": {},
   "outputs": [],
   "source": [
    "train_dept.to_csv(\"output_data/train_for_analysis.csv\")\n",
    "test_dept.to_csv(\"output_data/test_for_analysis.csv\")"
   ]
  },
  {
   "cell_type": "markdown",
   "metadata": {},
   "source": [
    "# .....#"
   ]
  },
  {
   "cell_type": "markdown",
   "metadata": {},
   "source": [
    "# End of notebook"
   ]
  }
 ],
 "metadata": {
  "kernelspec": {
   "display_name": "Python 3",
   "language": "python",
   "name": "python3"
  },
  "language_info": {
   "codemirror_mode": {
    "name": "ipython",
    "version": 3
   },
   "file_extension": ".py",
   "mimetype": "text/x-python",
   "name": "python",
   "nbconvert_exporter": "python",
   "pygments_lexer": "ipython3",
   "version": "3.7.3"
  }
 },
 "nbformat": 4,
 "nbformat_minor": 2
}
